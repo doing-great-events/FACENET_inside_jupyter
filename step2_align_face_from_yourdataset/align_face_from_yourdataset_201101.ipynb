{
 "cells": [
  {
   "cell_type": "markdown",
   "metadata": {},
   "source": [
    "## Extract and align faces by MTCNN for the Facenet Input\n",
    "See <a href = \"https://github.com/doing-great-events/MTCNN_inside_jupyter/blob/main/MTCNN_inside_jupyter/jypyter_MTCNN_upload.ipynb\">here for MTCNN details </a>\n",
    "\n",
    "\n",
    "<table align=\"left\">\n",
    "  <thead>\n",
    "    <tr>\n",
    "      <th><p style=\"text-align:center;\">Environments</p></th>\n",
    "      <th><p style=\"text-align:center;\">Frameworks</th>\n",
    "      <th><p style=\"text-align:center;\">Mian Packages</th>\n",
    "      <th><p style=\"text-align:center;\">Notes</th>\n",
    "    </tr>\n",
    "  </thead>\n",
    "  <tbody>\n",
    "    <tr>\n",
    "      <td><p style=\"text-align:center;\">Python 3.7.7</td>\n",
    "      <td><p style=\"text-align:center;\">Tensorflow 1.15</td>\n",
    "      <td><p style=\"text-align:center;\">numpy, etc.,</td>\n",
    "      <td><p style=\"text-align:center;\">Suggest to creat you env through Anacond etc.,<br>due to the automatic installation of lots of packages<br>建議採用Anaconda建立環境, 可節省諸多package安裝過程</td>\n",
    "    </tr>\n",
    "    <tr>\n",
    "      <td><p style=\"text-align:center;\"> </td>\n",
    "      <td><p style=\"text-align:center;\"> </td>\n",
    "      <td><p style=\"text-align:center;\">OpenCV '4.4.0'</td>\n",
    "      <td><p style=\"text-align:center;\">Suggest to install the package by .whl file<br>建議下載whl檔案安裝, 透過Anaconda pip安裝的版本無法正常結束影片</td>\n",
    "    </tr>\n",
    "      <tr>\n",
    "      <td><p style=\"text-align:center;\"> </td>\n",
    "      <td><p style=\"text-align:center;\"> </td>\n",
    "      <td><p style=\"text-align:center;\"> </td>\n",
    "      <td><p style=\"text-align:center;\">we will use pretrained weights from David to run the model<br>我們會用David Sandberg已經學習好的參數(det1/det2/det3)來跑模型</td>\n",
    "    </tr>\n",
    "  </tbody>\n",
    "</table>"
   ]
  },
  {
   "cell_type": "code",
   "execution_count": 2,
   "metadata": {},
   "outputs": [],
   "source": [
    "def layer(op):\n",
    "    \"\"\"Decorator for composable network layers.\"\"\"\n",
    "\n",
    "    def layer_decorated(self, *args, **kwargs):\n",
    "        # Automatically set a name if not provided.\n",
    "        name = kwargs.setdefault('name', self.get_unique_name(op.__name__))\n",
    "        # Figure out the layer inputs.\n",
    "        if len(self.terminals) == 0:\n",
    "            raise RuntimeError('No input variables found for layer %s.' % name)\n",
    "        elif len(self.terminals) == 1:\n",
    "            layer_input = self.terminals[0]\n",
    "        else:\n",
    "            layer_input = list(self.terminals)\n",
    "        # Perform the operation and get the output.\n",
    "        layer_output = op(self, layer_input, *args, **kwargs)\n",
    "        # Add to layer LUT.\n",
    "        self.layers[name] = layer_output\n",
    "        # This output is now the input for the next layer.\n",
    "        self.feed(layer_output)\n",
    "        # Return self for chained calls.\n",
    "        return self\n",
    "\n",
    "    return layer_decorated"
   ]
  },
  {
   "cell_type": "code",
   "execution_count": 3,
   "metadata": {},
   "outputs": [],
   "source": [
    "class Network(object):\n",
    "    def __init__(self, inputs, trainable=True):                 # define layers function might creat by yourself\n",
    "        # The input nodes for this network\n",
    "        self.inputs = inputs\n",
    "        # The current list of terminal nodes\n",
    "        self.terminals = []\n",
    "        # Mapping from layer names to layers\n",
    "        self.layers = dict(inputs)\n",
    "        # If true, the resulting variables are set as trainable\n",
    "        self.trainable = trainable\n",
    "\n",
    "        self.setup()\n",
    "\n",
    "    def setup(self):\n",
    "        \"\"\"Construct the network. \"\"\"\n",
    "        raise NotImplementedError('Must be implemented by the subclass.')\n",
    "\n",
    "    def load(self, data_path, session, ignore_missing=False):   # e.g. you can see usage of pnet.load in \"def create_mtcnn\" below\n",
    "        \"\"\"Load network weights.\n",
    "        data_path: The path to the numpy-serialized network weights\n",
    "        session: The current TensorFlow session\n",
    "        ignore_missing: If true, serialized weights for missing layers are ignored.\n",
    "        \"\"\"\n",
    "        data_dict = np.load(data_path, encoding='latin1').item() #pylint: disable=no-member\n",
    "\n",
    "        for op_name in data_dict:\n",
    "            with tf.variable_scope(op_name, reuse=True):\n",
    "                for param_name, data in iteritems(data_dict[op_name]):\n",
    "                    try:\n",
    "                        var = tf.get_variable(param_name)\n",
    "                        session.run(var.assign(data))\n",
    "                    except ValueError:\n",
    "                        if not ignore_missing:\n",
    "                            raise\n",
    "\n",
    "    def feed(self, *args):\n",
    "        \"\"\"Set the input(s) for the next operation by replacing the terminal nodes.\n",
    "        The arguments can be either layer names or the actual layers.\n",
    "        \"\"\"\n",
    "        assert len(args) != 0\n",
    "        self.terminals = []\n",
    "        for fed_layer in args:\n",
    "            if isinstance(fed_layer, string_types):\n",
    "                try:\n",
    "                    fed_layer = self.layers[fed_layer]\n",
    "                except KeyError:\n",
    "                    raise KeyError('Unknown layer name fed: %s' % fed_layer)\n",
    "            self.terminals.append(fed_layer)\n",
    "        return self\n",
    "\n",
    "    def get_output(self):\n",
    "        \"\"\"Returns the current network output.\"\"\"\n",
    "        return self.terminals[-1]\n",
    "\n",
    "    def get_unique_name(self, prefix):\n",
    "        \"\"\"Returns an index-suffixed unique name for the given prefix.\n",
    "        This is used for auto-generating layer names based on the type-prefix.\n",
    "        \"\"\"\n",
    "        ident = sum(t.startswith(prefix) for t, _ in self.layers.items()) + 1\n",
    "        return '%s_%d' % (prefix, ident)\n",
    "\n",
    "    def make_var(self, name, shape):\n",
    "        \"\"\"Creates a new TensorFlow variable.\"\"\"\n",
    "        return tf.get_variable(name, shape, trainable=self.trainable)\n",
    "\n",
    "    def validate_padding(self, padding):\n",
    "        \"\"\"Verifies that the padding is one of the supported ones.\"\"\"\n",
    "        assert padding in ('SAME', 'VALID')\n",
    "\n",
    "    @layer\n",
    "    def conv(self,\n",
    "             inp,\n",
    "             k_h,     # kernel size_h-direct.\n",
    "             k_w,     # kernel size_w-direct.\n",
    "             c_o,     # filters (channel_outter)\n",
    "             s_h,     # stride_h-direct.\n",
    "             s_w,     # stride_w-direct.\n",
    "             name,                                            # define op_name here, then you can fine the weights in after\n",
    "             relu=True,\n",
    "             padding='SAME',                                  # notice here : the default \"SAME\" padding\n",
    "             group=1,\n",
    "             biased=True):\n",
    "        self.validate_padding(padding)                        # Verify that the padding is acceptable\n",
    "        c_i = int(inp.get_shape()[-1])                        # Get the number of channels in the input (channel_inner)\n",
    "        # Verify that the grouping parameter is valid\n",
    "        assert c_i % group == 0                              # % 1 == 0, assert value c_i is able to work\n",
    "        assert c_o % group == 0                              # % 1 == 0, assert value c_o is able to work\n",
    "        \n",
    "        # Convolution for a given input and kernel\n",
    "        convolve = lambda i, k: tf.nn.conv2d(input = i, filter = k, strides = [1, s_h, s_w, 1], padding=padding)  \n",
    "        with tf.variable_scope(name) as scope:\n",
    "            kernel = self.make_var('weights', shape=[k_h, k_w, c_i // group, c_o])       # define parameter_name here\n",
    "            # This is the common-case. Convolve the input without any further complications.\n",
    "            output = convolve(inp, kernel)                                               # define w*a\n",
    "            # Add the biases\n",
    "            if biased:\n",
    "                biases = self.make_var('biases', [c_o])                                  # define parameter_name here\n",
    "                output = tf.nn.bias_add(output, biases)                                  # define w*a + b\n",
    "            if relu:\n",
    "                # ReLU non-linearity\n",
    "                output = tf.nn.relu(output, name=scope.name)                             # define activation (w*a + b)\n",
    "            return output\n",
    "\n",
    "    @layer\n",
    "    def prelu(self, inp, name):\n",
    "        with tf.variable_scope(name):\n",
    "            i = int(inp.get_shape()[-1])\n",
    "            alpha = self.make_var('alpha', shape=(i,))                                   # define prelu parameter_name here\n",
    "            output = tf.nn.relu(inp) + tf.multiply(alpha, -tf.nn.relu(-inp))             # define prelu = ReLu(a) - alpha*ReLu(-a)\n",
    "        return output\n",
    "    # MTCNN conduct the nonlinearity by PReLU, 使用 Parametric ReLU (PReLU) 導入 nonlinearity activation\n",
    "    # alpha is a learnable variable 是需要學習的參數\n",
    "    \n",
    "    @layer\n",
    "    def max_pool(self, inp, k_h, k_w, s_h, s_w, name, padding='SAME'):                  # notice here : the default \"SAME\" padding\n",
    "        self.validate_padding(padding)\n",
    "        return tf.nn.max_pool(value = inp,\n",
    "                              ksize=[1, k_h, k_w, 1],\n",
    "                              strides=[1, s_h, s_w, 1],\n",
    "                              padding=padding,\n",
    "                              name=name)\n",
    "\n",
    "    @layer\n",
    "    def fc(self, inp, num_out, name, relu=True):\n",
    "        with tf.variable_scope(name):\n",
    "            input_shape = inp.get_shape()                        # get input shape, e.g. RNet fc input is [None, 3, 3, 64] [576, 128]\n",
    "            if input_shape.ndims == 4:\n",
    "                # The input is spatial. Vectorize it first.\n",
    "                dim = 1\n",
    "                for d in input_shape[1:].as_list():             # e.g. d = 3, 3, 64\n",
    "                    dim *= int(d)                               # e.g. dim = 3 * 3 * 64\n",
    "                feed_in = tf.reshape(inp, [-1, dim])            # e.g. feed_in = tf.reshape([None, 3, 3, 64], [576])\n",
    "            else:\n",
    "                feed_in, dim = (inp, input_shape[-1].value)     \n",
    "            weights = self.make_var('weights', shape=[dim, num_out])   # e.g. shape = [3 * 3 * 64, 128]\n",
    "            biases = self.make_var('biases', [num_out])                # e.g. shape = [128]\n",
    "            op = tf.nn.relu_layer if relu else tf.nn.xw_plus_b        # define operation = ReLu or w*a + b\n",
    "            fc = op(feed_in, weights, biases, name=name)\n",
    "            return fc\n",
    "\n",
    "\n",
    "    \"\"\"\n",
    "    Multi dimensional softmax,\n",
    "    refer to https://github.com/tensorflow/tensorflow/issues/210\n",
    "    compute softmax along the dimension of target\n",
    "    the native softmax only supports batch_size x dimension\n",
    "    \"\"\"\n",
    "    @layer\n",
    "    def softmax(self, target, axis, name=None):\n",
    "        max_axis = tf.reduce_max(target, axis, keepdims=True)\n",
    "        target_exp = tf.exp(target-max_axis)\n",
    "        normalize = tf.reduce_sum(target_exp, axis, keepdims=True)\n",
    "        softmax = tf.div(target_exp, normalize, name)\n",
    "        return softmax\n",
    "    "
   ]
  },
  {
   "cell_type": "code",
   "execution_count": 4,
   "metadata": {},
   "outputs": [],
   "source": [
    "class PNet(Network):\n",
    "    def setup(self):\n",
    "        (self.feed('data') #pylint: disable=no-value-for-parameter, no-member\n",
    "             .conv(3, 3, 10, 1, 1, padding='VALID', relu=False, name='conv1')\n",
    "             .prelu(name='PReLU1')\n",
    "             .max_pool(2, 2, 2, 2, name='pool1')\n",
    "             .conv(3, 3, 16, 1, 1, padding='VALID', relu=False, name='conv2')\n",
    "             .prelu(name='PReLU2')\n",
    "             .conv(3, 3, 32, 1, 1, padding='VALID', relu=False, name='conv3')\n",
    "             .prelu(name='PReLU3')\n",
    "             .conv(1, 1, 2, 1, 1, relu=False, name='conv4-1')\n",
    "             .softmax(3,name='prob1'))\n",
    "        (self.feed('PReLU3') #pylint: disable=no-value-for-parameter\n",
    "             .conv(1, 1, 4, 1, 1, relu=False, name='conv4-2'))\n",
    "        \n",
    "class RNet(Network):\n",
    "    def setup(self):\n",
    "        (self.feed('data') #pylint: disable=no-value-for-parameter, no-member\n",
    "             .conv(3, 3, 28, 1, 1, padding='VALID', relu=False, name='conv1')\n",
    "             .prelu(name='prelu1')\n",
    "             .max_pool(3, 3, 2, 2, name='pool1')    # notice here is default padding = \"SAME\", thus why result [11,11, 28]\n",
    "             .conv(3, 3, 48, 1, 1, padding='VALID', relu=False, name='conv2')\n",
    "             .prelu(name='prelu2')\n",
    "             .max_pool(3, 3, 2, 2, padding='VALID', name='pool2')\n",
    "             .conv(2, 2, 64, 1, 1, padding='VALID', relu=False, name='conv3')\n",
    "             .prelu(name='prelu3')\n",
    "             .fc(128, relu=False, name='conv4')\n",
    "             .prelu(name='prelu4')\n",
    "             .fc(2, relu=False, name='conv5-1')\n",
    "             .softmax(1,name='prob1'))\n",
    "\n",
    "        (self.feed('prelu4') #pylint: disable=no-value-for-parameter\n",
    "             .fc(4, relu=False, name='conv5-2'))\n",
    "        \n",
    "class ONet(Network):\n",
    "    def setup(self):\n",
    "        (self.feed('data') #pylint: disable=no-value-for-parameter, no-member\n",
    "             .conv(3, 3, 32, 1, 1, padding='VALID', relu=False, name='conv1')\n",
    "             .prelu(name='prelu1')\n",
    "             .max_pool(3, 3, 2, 2, name='pool1')\n",
    "             .conv(3, 3, 64, 1, 1, padding='VALID', relu=False, name='conv2')\n",
    "             .prelu(name='prelu2')\n",
    "             .max_pool(3, 3, 2, 2, padding='VALID', name='pool2')\n",
    "             .conv(3, 3, 64, 1, 1, padding='VALID', relu=False, name='conv3')\n",
    "             .prelu(name='prelu3')\n",
    "             .max_pool(2, 2, 2, 2, name='pool3')\n",
    "             .conv(2, 2, 128, 1, 1, padding='VALID', relu=False, name='conv4')\n",
    "             .prelu(name='prelu4')\n",
    "             .fc(256, relu=False, name='conv5')\n",
    "             .prelu(name='prelu5')\n",
    "             .fc(2, relu=False, name='conv6-1')\n",
    "             .softmax(1, name='prob1'))\n",
    "\n",
    "        (self.feed('prelu5') #pylint: disable=no-value-for-parameter\n",
    "             .fc(4, relu=False, name='conv6-2'))\n",
    "\n",
    "        (self.feed('prelu5') #pylint: disable=no-value-for-parameter\n",
    "             .fc(10, relu=False, name='conv6-3'))"
   ]
  },
  {
   "cell_type": "code",
   "execution_count": 7,
   "metadata": {},
   "outputs": [],
   "source": [
    "# function [boundingbox] = bbreg(boundingbox,reg)\n",
    "def bbreg(boundingbox,reg):\n",
    "    \"\"\"Calibrate bounding boxes\"\"\"\n",
    "    if reg.shape[1]==1:\n",
    "        reg = np.reshape(reg, (reg.shape[2], reg.shape[3]))\n",
    "\n",
    "    w = boundingbox[:,2]-boundingbox[:,0]+1\n",
    "    h = boundingbox[:,3]-boundingbox[:,1]+1\n",
    "    b1 = boundingbox[:,0]+reg[:,0]*w\n",
    "    b2 = boundingbox[:,1]+reg[:,1]*h\n",
    "    b3 = boundingbox[:,2]+reg[:,2]*w\n",
    "    b4 = boundingbox[:,3]+reg[:,3]*h\n",
    "    boundingbox[:,0:4] = np.transpose(np.vstack([b1, b2, b3, b4 ]))\n",
    "    return boundingbox\n",
    " \n",
    "def generateBoundingBox(imap, reg, scale, t):\n",
    "    \"\"\"Use heatmap to generate bounding boxes\n",
    "    \n",
    "    \"\"\"\n",
    "    stride=2                       # because max pooling stride = 2\n",
    "    cellsize=12\n",
    "\n",
    "    imap = np.transpose(imap) \n",
    "    dx1 = np.transpose(reg[:,:,0])\n",
    "    dy1 = np.transpose(reg[:,:,1])\n",
    "    dx2 = np.transpose(reg[:,:,2])\n",
    "    dy2 = np.transpose(reg[:,:,3])\n",
    "    y, x = np.where(imap >= t)\n",
    "    \n",
    "    if y.shape[0]==1:\n",
    "        dx1 = np.flipud(dx1)\n",
    "        dy1 = np.flipud(dy1) \n",
    "        dx2 = np.flipud(dx2) \n",
    "        dy2 = np.flipud(dy2) \n",
    "    score = imap[(y,x)]\n",
    "    reg = np.transpose(np.vstack([ dx1[(y,x)], dy1[(y,x)], dx2[(y,x)], dy2[(y,x)] ])) # vstack ensure matrix formate, final shape = [(num of > threshold), 4]\n",
    "    \n",
    "    if reg.size==0:               # if no bounding box was found\n",
    "        reg = np.empty((0,3))\n",
    "    bb = np.transpose(np.vstack([y,x]))          # bb = bounding box index\n",
    "    q1 = np.fix((stride*bb+1)/scale)             # q1 = turn window back to original pic by index\n",
    "    q2 = np.fix((stride*bb+cellsize-1+1)/scale) # q2 = turn window back to original pic by q1 + cellsize\n",
    "    boundingbox = np.hstack([q1, q2, np.expand_dims(score,1), reg])\n",
    "    return boundingbox, reg\n",
    " \n",
    "# function pick = nms(boxes,threshold,type)\n",
    "def nms(boxes, threshold, method):         # non-max suppression\n",
    "    if boxes.size==0:\n",
    "        return np.empty((0,3))\n",
    "    x1 = boxes[:,0] # box coordinate x1\n",
    "    y1 = boxes[:,1] # box coordinate y1\n",
    "    x2 = boxes[:,2] # box coordinate x2\n",
    "    y2 = boxes[:,3] # box coordinate y2\n",
    "    s = boxes[:,4]  # box score\n",
    "    area = (x2-x1+1) * (y2-y1+1)            # calculate box area\n",
    "    I = np.argsort(s)                       # return the index from min to max\n",
    "    pick = np.zeros_like(s, dtype=np.int16) # zeros matrix with same dimension in s.shape\n",
    "    counter = 0\n",
    "    while I.size>0:\n",
    "        i = I[-1]                           # reverse direction, which means from max to min.\n",
    "        pick[counter] = i                   # set pick[current_max_score_index, current_max_score_index ...] \n",
    "        counter += 1\n",
    "        idx = I[0:-1]                       # the rest of boxes, except of max score one\n",
    "        xx1 = np.maximum(x1[i], x1[idx])    # get intersection x1, np.maximum(current max ,rest boxes)\n",
    "        yy1 = np.maximum(y1[i], y1[idx])    # get intersection y1\n",
    "        xx2 = np.minimum(x2[i], x2[idx])    # get intersection x2\n",
    "        yy2 = np.minimum(y2[i], y2[idx])    # get intersection y2\n",
    "        w = np.maximum(0.0, xx2-xx1+1)      # intersection w\n",
    "        h = np.maximum(0.0, yy2-yy1+1)      # intersection h\n",
    "        inter = w * h                       # intersection area\n",
    "        if method is 'Min':\n",
    "            o = inter / np.minimum(area[i], area[idx])\n",
    "        else:\n",
    "            o = inter / (area[i] + area[idx] - inter)\n",
    "        I = I[np.where(o<=threshold)]       # under current max score, delet IoU > threshold\n",
    "    pick = pick[0:counter]\n",
    "    return pick\n",
    "\n",
    "# function [dy edy dx edx y ey x ex tmpw tmph] = pad(total_boxes,w,h)\n",
    "def pad(total_boxes, w, h):\n",
    "    \"\"\"Compute the padding coordinates (pad the bounding boxes to square)\"\"\"\n",
    "    tmpw = (total_boxes[:,2]-total_boxes[:,0]+1).astype(np.int32)\n",
    "    tmph = (total_boxes[:,3]-total_boxes[:,1]+1).astype(np.int32)\n",
    "    numbox = total_boxes.shape[0]\n",
    "\n",
    "    dx = np.ones((numbox), dtype=np.int32)\n",
    "    dy = np.ones((numbox), dtype=np.int32)\n",
    "    edx = tmpw.copy().astype(np.int32)\n",
    "    edy = tmph.copy().astype(np.int32)\n",
    "\n",
    "    x = total_boxes[:,0].copy().astype(np.int32)   # bb x1 coord. (w-dir.)\n",
    "    y = total_boxes[:,1].copy().astype(np.int32)   # bb y1 coord. (h-dir.)\n",
    "    ex = total_boxes[:,2].copy().astype(np.int32)  # bb x2 coord. (w-dir.)\n",
    "    ey = total_boxes[:,3].copy().astype(np.int32)  # bb y2 coord. (h-dir.)\n",
    "\n",
    "    tmp = np.where(ex>w) # index of those x2 coordinate > window\n",
    "    edx.flat[tmp] = np.expand_dims(-ex[tmp]+w+tmpw[tmp],1)\n",
    "    ex[tmp] = w\n",
    "    \n",
    "    tmp = np.where(ey>h) # index of those y2 coordinate > window\n",
    "    edy.flat[tmp] = np.expand_dims(-ey[tmp]+h+tmph[tmp],1)\n",
    "    ey[tmp] = h\n",
    "\n",
    "    tmp = np.where(x<1)  # index of those x1 coordinate < 1\n",
    "    dx.flat[tmp] = np.expand_dims(2-x[tmp],1)\n",
    "    x[tmp] = 1\n",
    "\n",
    "    tmp = np.where(y<1)  # index of those y1 coordinate < 1\n",
    "    dy.flat[tmp] = np.expand_dims(2-y[tmp],1)\n",
    "    y[tmp] = 1\n",
    "    # tmp[dy[k]-1:edy[k],dx[k]-1:edx[k],:] = img[y[k]-1:ey[k],x[k]-1:ex[k],:]\n",
    "    # bb coord. in target (dy,edy,dx,edx), bb coord. in source（y,ey,x,ex）\n",
    "    # set a suitable pixel corresponding to original img\n",
    "    return dy, edy, dx, edx, y, ey, x, ex, tmpw, tmph\n",
    "\n",
    "# function [bboxA] = rerec(bboxA)\n",
    "def rerec(bboxA):\n",
    "    \"\"\"Convert bboxA to square.\"\"\"\n",
    "    # re-rectangular box\n",
    "    h = bboxA[:,3]-bboxA[:,1]\n",
    "    w = bboxA[:,2]-bboxA[:,0]\n",
    "    l = np.maximum(w, h)\n",
    "    bboxA[:,0] = bboxA[:,0]+w*0.5-l*0.5 # try to expand the shorter edge to rectangular\n",
    "    bboxA[:,1] = bboxA[:,1]+h*0.5-l*0.5 # try to expand the shorter edge to rectangular\n",
    "    bboxA[:,2:4] = bboxA[:,0:2] + np.transpose(np.tile(l,(2,1)))\n",
    "    return bboxA\n",
    "\n",
    "def imresample(img, sz):\n",
    "    im_data = cv2.resize(img, (sz[1], sz[0]), interpolation=cv2.INTER_AREA) #@UndefinedVariable\n",
    "    return im_data\n"
   ]
  },
  {
   "cell_type": "code",
   "execution_count": 8,
   "metadata": {},
   "outputs": [],
   "source": [
    "def create_mtcnn(sess, model_path):\n",
    "    if not model_path:\n",
    "        model_path = os.getcwd()\n",
    "\n",
    "    np.load.__defaults__=(None, True, True, 'latin1')   # declare load.__defaults__\n",
    "\n",
    "    with tf.variable_scope('pnet'):\n",
    "        data = tf.placeholder(tf.float32, (None,None,None,3), 'input')\n",
    "        pnet = PNet({'data':data})\n",
    "        pnet.load(os.path.join(model_path, 'det1.npy'), sess)\n",
    "    with tf.variable_scope('rnet'):\n",
    "        data = tf.placeholder(tf.float32, (None,24,24,3), 'input')\n",
    "        rnet = RNet({'data':data})\n",
    "        rnet.load(os.path.join(model_path, 'det2.npy'), sess)\n",
    "    with tf.variable_scope('onet'):\n",
    "        data = tf.placeholder(tf.float32, (None,48,48,3), 'input')\n",
    "        onet = ONet({'data':data})\n",
    "        onet.load(os.path.join(model_path, 'det3.npy'), sess)\n",
    "            \n",
    "    np.load.__defaults__=(None, False, True, 'ASCII')  # load.__defaults__  go back to original default\n",
    "    \n",
    "    pnet_fun = lambda img : sess.run(('pnet/conv4-2/BiasAdd:0', 'pnet/prob1:0'), feed_dict={'pnet/input:0':img})\n",
    "    rnet_fun = lambda img : sess.run(('rnet/conv5-2/conv5-2:0', 'rnet/prob1:0'), feed_dict={'rnet/input:0':img})\n",
    "    onet_fun = lambda img : sess.run(('onet/conv6-2/conv6-2:0', 'onet/conv6-3/conv6-3:0', 'onet/prob1:0'), feed_dict={'onet/input:0':img})\n",
    "    return pnet_fun, rnet_fun, onet_fun"
   ]
  },
  {
   "cell_type": "code",
   "execution_count": 9,
   "metadata": {},
   "outputs": [],
   "source": [
    "def detect_face(img, minsize, pnet, rnet, onet, threshold, factor):\n",
    "    \"\"\"Detects faces in an image, and returns bounding boxes and points for them.\n",
    "    img: input image\n",
    "    minsize: minimum faces' size\n",
    "    pnet, rnet, onet: caffemodel\n",
    "    threshold: threshold=[th1, th2, th3], th1-3 are three steps's threshold\n",
    "    factor: the factor used to create a scaling pyramid of face sizes to detect in the image.\n",
    "    \"\"\"\n",
    "    factor_count=0\n",
    "    total_boxes=np.empty((0,9))\n",
    "    points=np.empty(0)\n",
    "    h=img.shape[0] \n",
    "    w=img.shape[1] \n",
    "    minl=np.amin([h, w]) \n",
    "    m=12.0/minsize \n",
    "    minl=minl*m\n",
    "\n",
    "    scales=[]\n",
    "    while minl>=12: \n",
    "        scales += [m*np.power(factor, factor_count)]\n",
    "        minl = minl*factor\n",
    "        factor_count += 1\n",
    "       \n",
    "    for scale in scales:\n",
    "        hs=int(np.ceil(h*scale))\n",
    "        ws=int(np.ceil(w*scale))  \n",
    "        im_data = imresample(img, (hs, ws))\n",
    "        im_data = (im_data-127.5)*0.0078125 \n",
    "        img_x = np.expand_dims(im_data, 0) \n",
    "        img_y = np.transpose(img_x, (0,2,1,3)) \n",
    "        out = pnet(img_y)\n",
    "        out0 = np.transpose(out[0], (0,2,1,3)) \n",
    "        out1 = np.transpose(out[1], (0,2,1,3))\n",
    "        \n",
    "        boxes, _ = generateBoundingBox(out1[0,:,:,1].copy(), out0[0,:,:,:].copy(), scale, threshold[0])\n",
    "        \n",
    "        # inter-scale nms\n",
    "        pick = nms(boxes.copy(), 0.5, 'Union') \n",
    "        if boxes.size>0 and pick.size>0:\n",
    "            boxes = boxes[pick,:]\n",
    "            total_boxes = np.append(total_boxes, boxes, axis=0)\n",
    "\n",
    "    numbox = total_boxes.shape[0]\n",
    "    if numbox>0:\n",
    "        pick = nms(total_boxes.copy(), 0.7, 'Union')\n",
    "        total_boxes = total_boxes[pick,:]\n",
    "        regw = total_boxes[:,2]-total_boxes[:,0]\n",
    "        regh = total_boxes[:,3]-total_boxes[:,1] \n",
    "        qq1 = total_boxes[:,0]+total_boxes[:,5]*regw \n",
    "        qq2 = total_boxes[:,1]+total_boxes[:,6]*regh \n",
    "        qq3 = total_boxes[:,2]+total_boxes[:,7]*regw\n",
    "        qq4 = total_boxes[:,3]+total_boxes[:,8]*regh\n",
    "        total_boxes = np.transpose(np.vstack([qq1, qq2, qq3, qq4, total_boxes[:,4]]))\n",
    "        total_boxes = rerec(total_boxes.copy())\n",
    "        total_boxes[:,0:4] = np.fix(total_boxes[:,0:4]).astype(np.int32)\n",
    "        dy, edy, dx, edx, y, ey, x, ex, tmpw, tmph = pad(total_boxes.copy(), w, h)\n",
    "\n",
    "    numbox = total_boxes.shape[0]\n",
    "    if numbox>0:\n",
    "        # second stage\n",
    "        tempimg = np.zeros((24,24,3,numbox))\n",
    "        for k in range(0,numbox):\n",
    "            tmp = np.zeros((int(tmph[k]),int(tmpw[k]),3))\n",
    "            tmp[dy[k]-1:edy[k],dx[k]-1:edx[k],:] = img[y[k]-1:ey[k],x[k]-1:ex[k],:] \n",
    "            if tmp.shape[0]>0 and tmp.shape[1]>0 or tmp.shape[0]==0 and tmp.shape[1]==0:\n",
    "                tempimg[:,:,:,k] = imresample(tmp, (24, 24))\n",
    "            else:\n",
    "                return np.empty()\n",
    "        tempimg = (tempimg-127.5)*0.0078125            # mean-zero & normalize\n",
    "        tempimg1 = np.transpose(tempimg, (3,1,0,2))\n",
    "        out = rnet(tempimg1)                           # RNet_out = [bounding_box result, face_classification result]\n",
    "        out0 = np.transpose(out[0])                    # bounding_box result, 輸出結果為[4, None]\n",
    "        out1 = np.transpose(out[1])                    # face_classification result, 輸出結果為[2, None]\n",
    "                                                       # [0] for probability of no face, [1]for probability of get face, [0] + [1] = 1\n",
    "        score = out1[1,:]\n",
    "        ipass = np.where(score>threshold[1])\n",
    "        total_boxes = np.hstack([total_boxes[ipass[0],0:4].copy(), np.expand_dims(score[ipass].copy(),1)])\n",
    "        mv = out0[:,ipass[0]]\n",
    "        if total_boxes.shape[0]>0:\n",
    "            pick = nms(total_boxes, 0.7, 'Union')      # nms(boxes,threshold = 0.7,type = \"Union\")\n",
    "            total_boxes = total_boxes[pick,:]\n",
    "            total_boxes = bbreg(total_boxes.copy(), np.transpose(mv[:,pick]))\n",
    "            total_boxes = rerec(total_boxes.copy())\n",
    "\n",
    "    numbox = total_boxes.shape[0]\n",
    "    if numbox>0:\n",
    "        # third stage\n",
    "        total_boxes = np.fix(total_boxes).astype(np.int32)\n",
    "        dy, edy, dx, edx, y, ey, x, ex, tmpw, tmph = pad(total_boxes.copy(), w, h)\n",
    "        tempimg = np.zeros((48,48,3,numbox))\n",
    "        for k in range(0,numbox):\n",
    "            tmp = np.zeros((int(tmph[k]),int(tmpw[k]),3))\n",
    "            tmp[dy[k]-1:edy[k],dx[k]-1:edx[k],:] = img[y[k]-1:ey[k],x[k]-1:ex[k],:]\n",
    "            if tmp.shape[0]>0 and tmp.shape[1]>0 or tmp.shape[0]==0 and tmp.shape[1]==0:\n",
    "                tempimg[:,:,:,k] = imresample(tmp, (48, 48))\n",
    "            else:\n",
    "                return np.empty()\n",
    "        tempimg = (tempimg-127.5)*0.0078125\n",
    "        tempimg1 = np.transpose(tempimg, (3,1,0,2))\n",
    "        out = onet(tempimg1)                           # ONet_out = [bounding_box result, facial landmark, face_classification result]\n",
    "        out0 = np.transpose(out[0])                    # bounding_box result, 輸出結果為[4, None]\n",
    "        out1 = np.transpose(out[1])                    # bounding_box result, 輸出結果為[10, None]\n",
    "        out2 = np.transpose(out[2])                    # bounding_box result, 輸出結果為[2, None]\n",
    "        score = out2[1,:]\n",
    "        points = out1\n",
    "        ipass = np.where(score>threshold[2])           \n",
    "        points = points[:,ipass[0]]\n",
    "        total_boxes = np.hstack([total_boxes[ipass[0],0:4].copy(), np.expand_dims(score[ipass].copy(),1)])\n",
    "        mv = out0[:,ipass[0]]\n",
    "\n",
    "        w = total_boxes[:,2]-total_boxes[:,0]+1\n",
    "        h = total_boxes[:,3]-total_boxes[:,1]+1\n",
    "        points[0:5,:] = np.tile(w,(5, 1))*points[0:5,:] + np.tile(total_boxes[:,0],(5, 1))-1\n",
    "        points[5:10,:] = np.tile(h,(5, 1))*points[5:10,:] + np.tile(total_boxes[:,1],(5, 1))-1\n",
    "        if total_boxes.shape[0]>0:\n",
    "            total_boxes = bbreg(total_boxes.copy(), np.transpose(mv))\n",
    "            pick = nms(total_boxes.copy(), 0.7, 'Min') # nms(boxes,threshold = 0.7,type = \"Min\")\n",
    "            total_boxes = total_boxes[pick,:]\n",
    "            points = points[:,pick]\n",
    "                \n",
    "    return total_boxes, points\n"
   ]
  },
  {
   "cell_type": "code",
   "execution_count": 10,
   "metadata": {},
   "outputs": [],
   "source": [
    "\"\"\"Performs face alignment and stores face thumbnails in the output directory.\"\"\"\n",
    "# MIT License\n",
    "# \n",
    "# Copyright (c) 2016 David Sandberg\n",
    "# \n",
    "# Permission is hereby granted, free of charge, to any person obtaining a copy\n",
    "# of this software and associated documentation files (the \"Software\"), to deal\n",
    "# in the Software without restriction, including without limitation the rights\n",
    "# to use, copy, modify, merge, publish, distribute, sublicense, and/or sell\n",
    "# copies of the Software, and to permit persons to whom the Software is\n",
    "# furnished to do so, subject to the following conditions:\n",
    "# \n",
    "# The above copyright notice and this permission notice shall be included in all\n",
    "# copies or substantial portions of the Software.\n",
    "# \n",
    "# THE SOFTWARE IS PROVIDED \"AS IS\", WITHOUT WARRANTY OF ANY KIND, EXPRESS OR\n",
    "# IMPLIED, INCLUDING BUT NOT LIMITED TO THE WARRANTIES OF MERCHANTABILITY,\n",
    "# FITNESS FOR A PARTICULAR PURPOSE AND NONINFRINGEMENT. IN NO EVENT SHALL THE\n",
    "# AUTHORS OR COPYRIGHT HOLDERS BE LIABLE FOR ANY CLAIM, DAMAGES OR OTHER\n",
    "# LIABILITY, WHETHER IN AN ACTION OF CONTRACT, TORT OR OTHERWISE, ARISING FROM,\n",
    "# OUT OF OR IN CONNECTION WITH THE SOFTWARE OR THE USE OR OTHER DEALINGS IN THE\n",
    "# SOFTWARE.\n",
    "\n",
    "from __future__ import absolute_import\n",
    "from __future__ import division\n",
    "from __future__ import print_function\n",
    "\n",
    "from scipy import misc\n",
    "import sys\n",
    "import os\n",
    "import argparse                       # creat a parser to 從命令列直接讀取引數, 在jupyter運行時會因為sys.argv[1:]不為空而報錯\n",
    "                                       # David Sandberg原py檔案, 是在命令列呼叫, 我們於jupyter運行會有些小問題(解法見下方)\n",
    "import tensorflow as tf\n",
    "import numpy as np\n",
    "#import facenet                       # 部分facenet所需函式已帶入\n",
    "#import detect_face                   # David Sandberg 將MTCNN 各層架構寫在此檔案 (即上方各cell 因此無須再import)\n",
    "import random\n",
    "from time import sleep\n",
    "import subprocess                    # Popen in store_revision_info() will need it\n",
    "from skimage.transform import resize  # try this if you got error on 'scipy.misc' has no attribute 'imresize', scipy.misc.imresize is deprecated\n",
    "import imageio                        # scipy.misc.imsave has been deprecated in newer Scipy versions.\n",
    "                                      # try this if you got error on 'scipy.misc' has no attribute 'imread'"
   ]
  },
  {
   "cell_type": "code",
   "execution_count": 11,
   "metadata": {},
   "outputs": [],
   "source": [
    "def store_revision_info(src_path, output_dir, arg_string):\n",
    "    try:\n",
    "        # Get git hash\n",
    "        cmd = ['git', 'rev-parse', 'HEAD']\n",
    "        gitproc = subprocess.Popen(cmd, stdout = subprocess.PIPE, cwd=src_path)\n",
    "        (stdout, _) = gitproc.communicate()\n",
    "        git_hash = stdout.strip()\n",
    "    except OSError as e:\n",
    "        git_hash = ' '.join(cmd) + ': ' +  e.strerror\n",
    "  \n",
    "    try:\n",
    "        # Get local changes\n",
    "        cmd = ['git', 'diff', 'HEAD']\n",
    "        gitproc = subprocess.Popen(cmd, stdout = subprocess.PIPE, cwd=src_path)\n",
    "        (stdout, _) = gitproc.communicate()\n",
    "        git_diff = stdout.strip()\n",
    "    except OSError as e:\n",
    "        git_diff = ' '.join(cmd) + ': ' +  e.strerror\n",
    "    \n",
    "    # Store a text file in the log directory\n",
    "    rev_info_filename = os.path.join(output_dir, 'revision_info.txt')\n",
    "    with open(rev_info_filename, \"w\") as text_file:\n",
    "        text_file.write('arguments: %s\\n--------------------\\n' % arg_string)\n",
    "        text_file.write('tensorflow version: %s\\n--------------------\\n' % tf.__version__)  # @UndefinedVariable\n",
    "        text_file.write('git hash: %s\\n--------------------\\n' % git_hash)\n",
    "        text_file.write('%s' % git_diff)\n",
    "        \n",
    "class ImageClass():\n",
    "    \"Stores the paths to images for a given class\"\n",
    "    def __init__(self, name, image_paths):\n",
    "        self.name = name\n",
    "        self.image_paths = image_paths\n",
    "  \n",
    "    def __str__(self):\n",
    "        return self.name + ', ' + str(len(self.image_paths)) + ' images'\n",
    "  \n",
    "    def __len__(self):\n",
    "        return len(self.image_paths)\n",
    "    \n",
    "def get_image_paths(facedir):\n",
    "    image_paths = []\n",
    "    if os.path.isdir(facedir):\n",
    "        images = os.listdir(facedir)\n",
    "        image_paths = [os.path.join(facedir,img) for img in images]\n",
    "    return image_paths\n",
    "\n",
    "def get_dataset(path, has_class_directories=True):\n",
    "    dataset = []\n",
    "    path_exp = os.path.expanduser(path)\n",
    "    classes = [path for path in os.listdir(path_exp) \\\n",
    "                    if os.path.isdir(os.path.join(path_exp, path))]\n",
    "    classes.sort()\n",
    "    nrof_classes = len(classes)\n",
    "    for i in range(nrof_classes):\n",
    "        class_name = classes[i]\n",
    "        facedir = os.path.join(path_exp, class_name)\n",
    "        image_paths = get_image_paths(facedir)\n",
    "        dataset.append(ImageClass(class_name, image_paths))\n",
    "  \n",
    "    return dataset\n",
    "\n",
    "def to_rgb(img):\n",
    "    w, h = img.shape\n",
    "    ret = np.empty((w, h, 3), dtype=np.uint8)\n",
    "    ret[:, :, 0] = ret[:, :, 1] = ret[:, :, 2] = img\n",
    "    return ret"
   ]
  },
  {
   "cell_type": "code",
   "execution_count": 16,
   "metadata": {},
   "outputs": [],
   "source": [
    "def main(args):\n",
    "\n",
    "    sleep(random.random())\n",
    "    \n",
    "    output_dir = os.path.expanduser(args.output_dir)    # 設定align後的人臉影象存放的路徑\n",
    "    if not os.path.exists(output_dir):\n",
    "        os.makedirs(output_dir_path)\n",
    "        \n",
    "    # Store some git revision info in a text file in the log directory  儲存一些配置引數等資訊\n",
    "    #src_path,_ = os.path.split(os.path.realpath(__file__))\n",
    "    src_path = os.getcwd()  # my py3.7 is not work for __file__, so I replace the code as left\n",
    "    \n",
    "    #acenet.store_revision_info(src_path, output_dir, ' '.join(sys.argv))\n",
    "    store_revision_info(src_path, output_dir, ' '.join(sys.argv))\n",
    "    dataset_path = os.getcwd()\n",
    "    dataset = get_dataset(os.path.join(dataset_path, 'input_dir'))       # 獲取LFW or Input資料集 獲取每個類別名稱以及該類別下所有圖片的絕對路徑\n",
    "    \n",
    "    print('Creating networks and loading parameters')\n",
    "    \n",
    "    # Creat session to load the pre-trained MTCNN model：\n",
    "    # then get Proposal Network (P-Net), Refine Network (R-Net) 和 Output Network (O-Net)。\n",
    "    \n",
    "    with tf.Graph().as_default():\n",
    "        #gpu_options = tf.GPUOptions(per_process_gpu_memory_fraction=args.gpu_memory_fraction)\n",
    "        sess = tf.Session(config=tf.ConfigProto(log_device_placement=False))\n",
    "        with sess.as_default():\n",
    "            #pnet, rnet, onet = align.detect_face.create_mtcnn(sess, None)  # 因為 create_mtcnn 被我放到正上方了, 因此改成直接呼叫\n",
    "            pnet, rnet, onet = create_mtcnn(sess, None)                    # 建立MTCNN網路，並使用訓練好的參數 \n",
    "\n",
    "    minsize = 20 # minimum size of face\n",
    "    threshold = [ 0.6, 0.7, 0.7 ]  # three steps's threshold\n",
    "    factor = 0.709 # scale factor\n",
    "\n",
    "    # Add a random key to the filename to allow alignment using multiple processes\n",
    "    random_key = np.random.randint(0, high=99999)\n",
    "    bounding_boxes_filename = os.path.join(output_dir, 'bounding_boxes_%05d.txt' % random_key)\n",
    "    \n",
    "    with open(bounding_boxes_filename, \"w\") as text_file:  # 每個圖片中人臉所在的邊界框寫入記錄檔案中\n",
    "        nrof_images_total = 0\n",
    "        nrof_successfully_aligned = 0\n",
    "        if args.random_order:\n",
    "            random.shuffle(dataset)\n",
    "        for cls in dataset:                                        # 獲取每一個人，以及對應的所有圖片的絕對路徑\n",
    "            output_class_dir = os.path.join(output_dir, cls.name)  # 每一個人對應的輸出資料夾\n",
    "            if not os.path.exists(output_class_dir):\n",
    "                os.makedirs(output_class_dir)\n",
    "                if args.random_order:\n",
    "                    random.shuffle(cls.image_paths)\n",
    "            for image_path in cls.image_paths:                   # through over all pics\n",
    "                nrof_images_total += 1\n",
    "                filename = os.path.splitext(os.path.split(image_path)[1])[0]\n",
    "                output_filename = os.path.join(output_class_dir, filename+'.png')\n",
    "                print(image_path)\n",
    "                if not os.path.exists(output_filename):\n",
    "                    try:\n",
    "                        #img = misc.imread(image_path)\n",
    "                        img = imageio.imread(image_path)         # try this if you got error on 'scipy.misc' has no attribute 'imread'\n",
    "                    except (IOError, ValueError, IndexError) as e:\n",
    "                        errorMessage = '{}: {}'.format(image_path, e)\n",
    "                        print(errorMessage)\n",
    "                    else:\n",
    "                        if img.ndim<2:\n",
    "                            print('Unable to align \"%s\"' % image_path)\n",
    "                            text_file.write('%s\\n' % (output_filename))\n",
    "                            continue\n",
    "                        if img.ndim == 2:\n",
    "                            img = to_rgb(img)\n",
    "                        img = img[:,:,0:3]\n",
    "    \n",
    "                        # 人臉檢測 bounding_boxes：表示邊界框 形狀為[n,5] 5對應x1,y1,x2,y2,score, \n",
    "                        # _：人臉關鍵點座標 形狀為 [n,10]\n",
    "                        bounding_boxes, _ = detect_face(img, minsize, pnet, rnet, onet, threshold, factor) # detect face by MTCNN\n",
    "                        nrof_faces = bounding_boxes.shape[0]  # 確認boundboxes個數\n",
    "                        if nrof_faces>0:\n",
    "                            det = bounding_boxes[:,0:4]            # det = 提出bounding box 座標(x1, y1, x2, y2)\n",
    "                            det_arr = []                           # 儲存所有人臉框\n",
    "                            img_size = np.asarray(img.shape)[0:2]  # e.g. img_size = [600 800] = [h w]\n",
    "                            if nrof_faces>1:                       # 一張圖片中檢測多個人臉\n",
    "                                if args.detect_multiple_faces:\n",
    "                                    for i in range(nrof_faces):\n",
    "                                        det_arr.append(np.squeeze(det[i]))\n",
    "                                else:\n",
    "                                    bounding_box_size = (det[:,2]-det[:,0])*(det[:,3]-det[:,1]) # 直接算size(w*h) = (x2-x1) * (y2-y1)\n",
    "                                    img_center = img_size / 2\n",
    "                                    offsets = np.vstack([ (det[:,0]+det[:,2])/2-img_center[1], (det[:,1]+det[:,3])/2-img_center[0] ]) # bb中心距離圖片中心的offset\n",
    "                                    offset_dist_squared = np.sum(np.power(offsets,2.0),0)\n",
    "                                    index = np.argmax(bounding_box_size-offset_dist_squared*2.0) # index依大小排序\n",
    "                                    det_arr.append(det[index,:])\n",
    "                            else:                                  # 只有一個人臉框\n",
    "                                det_arr.append(np.squeeze(det))\n",
    "\n",
    "                            for i, det in enumerate(det_arr):      # through over all bounding boxes\n",
    "                                det = np.squeeze(det)\n",
    "                                bb = np.zeros(4, dtype=np.int32)\n",
    "                                bb[0] = np.maximum(det[0]-args.margin/2, 0)           # [4,]  邊界框擴大margin區域，並進行裁切\n",
    "                                bb[1] = np.maximum(det[1]-args.margin/2, 0)           # [4,]  邊界框擴大margin區域，並進行裁切\n",
    "                                bb[2] = np.minimum(det[2]+args.margin/2, img_size[1]) # [4,]  邊界框擴大margin區域，並進行裁切\n",
    "                                bb[3] = np.minimum(det[3]+args.margin/2, img_size[0]) # [4,]  邊界框擴大margin區域，並進行裁切\n",
    "                                cropped = img[bb[1]:bb[3],bb[0]:bb[2],:]               # 裁切\n",
    "                                #scaled = misc.imresize(cropped, (args.image_size, args.image_size), interp='bilinear') # 縮放到指定大小，並儲存圖片，以及邊界框位置資訊\n",
    "                                scaled = resize(cropped, output_shape=(args.image_size,args.image_size))  # try this if you got error on 'scipy.misc' has no attribute 'imresize', scipy.misc.imresize is deprecated\n",
    "                                nrof_successfully_aligned += 1\n",
    "                                filename_base, file_extension = os.path.splitext(output_filename)\n",
    "                                if args.detect_multiple_faces:\n",
    "                                    output_filename_n = \"{}_{}{}\".format(filename_base, i, file_extension)\n",
    "                                else:\n",
    "                                    output_filename_n = \"{}{}\".format(filename_base, file_extension)\n",
    "                                #misc.imsave(output_filename_n, scaled)  #scipy.misc.imsave has been deprecated in newer Scipy versions.\n",
    "                                imageio.imwrite(output_filename_n, scaled)\n",
    "                                text_file.write('%s %d %d %d %d\\n' % (output_filename_n, bb[0], bb[1], bb[2], bb[3]))\n",
    "                        else:\n",
    "                            print('Unable to align \"%s\"' % image_path)\n",
    "                            text_file.write('%s\\n' % (output_filename))\n",
    "                            \n",
    "    print('Total number of images: %d' % nrof_images_total)\n",
    "    print('Number of successfully aligned images: %d' % nrof_successfully_aligned)"
   ]
  },
  {
   "cell_type": "markdown",
   "metadata": {},
   "source": [
    "### Create dataset input directory before you run\n",
    "<br>1. Need to creat a \"input_dir\" folder as a Input path 建立 \"input_dir\" 資料夾, 把要輸入的照片放裡面\n",
    "<br>2. Need to creat a \"output_dir\" folder as a Output path(empty folder) 建立 \"output_dir\" 資料夾, 作為結果輸出路徑(空資料夾)\n",
    "<br><p style=\"text-align:left;\"><img src=\"images/dir_struc.png\"  style=\"width:861px;height:196px;\" align=\"left\">"
   ]
  },
  {
   "cell_type": "markdown",
   "metadata": {},
   "source": [
    "## Usage 1. batch photo detect 批次圖片偵測"
   ]
  },
  {
   "cell_type": "code",
   "execution_count": 17,
   "metadata": {},
   "outputs": [
    {
     "name": "stdout",
     "output_type": "stream",
     "text": [
      "Creating networks and loading parameters\n",
      "WARNING:tensorflow:From C:\\Users\\user\\anaconda3\\envs\\py37_tf\\lib\\site-packages\\tensorflow\\python\\ops\\init_ops.py:1251: calling VarianceScaling.__init__ (from tensorflow.python.ops.init_ops) with dtype is deprecated and will be removed in a future version.\n",
      "Instructions for updating:\n",
      "Call initializer instance with the dtype argument instead of passing it to the constructor\n",
      "WARNING:tensorflow:From <ipython-input-3-334ecf3c6bff>:166: div (from tensorflow.python.ops.math_ops) is deprecated and will be removed in a future version.\n",
      "Instructions for updating:\n",
      "Deprecated in favor of operator or tf.math.divide.\n",
      "C:\\Users\\user\\face_recog\\DGEs\\FaceNet\\step2_align_face_from_yourdataset\\input_dir\\fb\\FB_IMG_1604140770568.jpg\n"
     ]
    },
    {
     "name": "stderr",
     "output_type": "stream",
     "text": [
      "Lossy conversion from float64 to uint8. Range [0, 1]. Convert image to uint8 prior to saving to suppress this warning.\n"
     ]
    },
    {
     "name": "stdout",
     "output_type": "stream",
     "text": [
      "C:\\Users\\user\\face_recog\\DGEs\\FaceNet\\step2_align_face_from_yourdataset\\input_dir\\fb\\FB_IMG_1604140680381.jpg\n"
     ]
    },
    {
     "name": "stderr",
     "output_type": "stream",
     "text": [
      "Lossy conversion from float64 to uint8. Range [0, 1]. Convert image to uint8 prior to saving to suppress this warning.\n"
     ]
    },
    {
     "name": "stdout",
     "output_type": "stream",
     "text": [
      "C:\\Users\\user\\face_recog\\DGEs\\FaceNet\\step2_align_face_from_yourdataset\\input_dir\\fb\\FB_IMG_1604140805974.jpg\n"
     ]
    },
    {
     "name": "stderr",
     "output_type": "stream",
     "text": [
      "Lossy conversion from float64 to uint8. Range [0, 1]. Convert image to uint8 prior to saving to suppress this warning.\n"
     ]
    },
    {
     "name": "stdout",
     "output_type": "stream",
     "text": [
      "C:\\Users\\user\\face_recog\\DGEs\\FaceNet\\step2_align_face_from_yourdataset\\input_dir\\fb\\FB_IMG_1604140646369.jpg\n"
     ]
    },
    {
     "name": "stderr",
     "output_type": "stream",
     "text": [
      "Lossy conversion from float64 to uint8. Range [0, 1]. Convert image to uint8 prior to saving to suppress this warning.\n",
      "Lossy conversion from float64 to uint8. Range [0, 1]. Convert image to uint8 prior to saving to suppress this warning.\n"
     ]
    },
    {
     "name": "stdout",
     "output_type": "stream",
     "text": [
      "C:\\Users\\user\\face_recog\\DGEs\\FaceNet\\step2_align_face_from_yourdataset\\input_dir\\fb\\FB_IMG_1604140672334.jpg\n"
     ]
    },
    {
     "name": "stderr",
     "output_type": "stream",
     "text": [
      "Lossy conversion from float64 to uint8. Range [0, 1]. Convert image to uint8 prior to saving to suppress this warning.\n"
     ]
    },
    {
     "name": "stdout",
     "output_type": "stream",
     "text": [
      "C:\\Users\\user\\face_recog\\DGEs\\FaceNet\\step2_align_face_from_yourdataset\\input_dir\\fb\\FB_IMG_1604140845812.jpg\n"
     ]
    },
    {
     "name": "stderr",
     "output_type": "stream",
     "text": [
      "Lossy conversion from float64 to uint8. Range [0, 1]. Convert image to uint8 prior to saving to suppress this warning.\n",
      "Lossy conversion from float64 to uint8. Range [0, 1]. Convert image to uint8 prior to saving to suppress this warning.\n",
      "Lossy conversion from float64 to uint8. Range [0, 1]. Convert image to uint8 prior to saving to suppress this warning.\n",
      "Lossy conversion from float64 to uint8. Range [0, 1]. Convert image to uint8 prior to saving to suppress this warning.\n"
     ]
    },
    {
     "name": "stdout",
     "output_type": "stream",
     "text": [
      "C:\\Users\\user\\face_recog\\DGEs\\FaceNet\\step2_align_face_from_yourdataset\\input_dir\\fb\\FB_IMG_1604140654284.jpg\n"
     ]
    },
    {
     "name": "stderr",
     "output_type": "stream",
     "text": [
      "Lossy conversion from float64 to uint8. Range [0, 1]. Convert image to uint8 prior to saving to suppress this warning.\n",
      "Lossy conversion from float64 to uint8. Range [0, 1]. Convert image to uint8 prior to saving to suppress this warning.\n"
     ]
    },
    {
     "name": "stdout",
     "output_type": "stream",
     "text": [
      "C:\\Users\\user\\face_recog\\DGEs\\FaceNet\\step2_align_face_from_yourdataset\\input_dir\\fb\\FB_IMG_1604140559064.jpg\n"
     ]
    },
    {
     "name": "stderr",
     "output_type": "stream",
     "text": [
      "Lossy conversion from float64 to uint8. Range [0, 1]. Convert image to uint8 prior to saving to suppress this warning.\n",
      "Lossy conversion from float64 to uint8. Range [0, 1]. Convert image to uint8 prior to saving to suppress this warning.\n"
     ]
    },
    {
     "name": "stdout",
     "output_type": "stream",
     "text": [
      "C:\\Users\\user\\face_recog\\DGEs\\FaceNet\\step2_align_face_from_yourdataset\\input_dir\\fb\\FB_IMG_1604140567405.jpg\n"
     ]
    },
    {
     "name": "stderr",
     "output_type": "stream",
     "text": [
      "Lossy conversion from float64 to uint8. Range [0, 1]. Convert image to uint8 prior to saving to suppress this warning.\n"
     ]
    },
    {
     "name": "stdout",
     "output_type": "stream",
     "text": [
      "C:\\Users\\user\\face_recog\\DGEs\\FaceNet\\step2_align_face_from_yourdataset\\input_dir\\fb\\FB_IMG_1564881681828.jpg\n"
     ]
    },
    {
     "name": "stderr",
     "output_type": "stream",
     "text": [
      "Lossy conversion from float64 to uint8. Range [0, 1]. Convert image to uint8 prior to saving to suppress this warning.\n",
      "Lossy conversion from float64 to uint8. Range [0, 1]. Convert image to uint8 prior to saving to suppress this warning.\n",
      "Lossy conversion from float64 to uint8. Range [0, 1]. Convert image to uint8 prior to saving to suppress this warning.\n"
     ]
    },
    {
     "name": "stdout",
     "output_type": "stream",
     "text": [
      "C:\\Users\\user\\face_recog\\DGEs\\FaceNet\\step2_align_face_from_yourdataset\\input_dir\\fb\\FB_IMG_1604140597051.jpg\n"
     ]
    },
    {
     "name": "stderr",
     "output_type": "stream",
     "text": [
      "Lossy conversion from float64 to uint8. Range [0, 1]. Convert image to uint8 prior to saving to suppress this warning.\n"
     ]
    },
    {
     "name": "stdout",
     "output_type": "stream",
     "text": [
      "C:\\Users\\user\\face_recog\\DGEs\\FaceNet\\step2_align_face_from_yourdataset\\input_dir\\fb\\FB_IMG_1604140627455.jpg\n"
     ]
    },
    {
     "name": "stderr",
     "output_type": "stream",
     "text": [
      "Lossy conversion from float64 to uint8. Range [0, 1]. Convert image to uint8 prior to saving to suppress this warning.\n",
      "Lossy conversion from float64 to uint8. Range [0, 1]. Convert image to uint8 prior to saving to suppress this warning.\n"
     ]
    },
    {
     "name": "stdout",
     "output_type": "stream",
     "text": [
      "C:\\Users\\user\\face_recog\\DGEs\\FaceNet\\step2_align_face_from_yourdataset\\input_dir\\fb\\FB_IMG_1604140532870.jpg\n"
     ]
    },
    {
     "name": "stderr",
     "output_type": "stream",
     "text": [
      "Lossy conversion from float64 to uint8. Range [0, 1]. Convert image to uint8 prior to saving to suppress this warning.\n",
      "Lossy conversion from float64 to uint8. Range [0, 1]. Convert image to uint8 prior to saving to suppress this warning.\n",
      "Lossy conversion from float64 to uint8. Range [0, 1]. Convert image to uint8 prior to saving to suppress this warning.\n"
     ]
    },
    {
     "name": "stdout",
     "output_type": "stream",
     "text": [
      "C:\\Users\\user\\face_recog\\DGEs\\FaceNet\\step2_align_face_from_yourdataset\\input_dir\\fb\\FB_IMG_1604140523119.jpg\n"
     ]
    },
    {
     "name": "stderr",
     "output_type": "stream",
     "text": [
      "Lossy conversion from float64 to uint8. Range [0, 1]. Convert image to uint8 prior to saving to suppress this warning.\n",
      "Lossy conversion from float64 to uint8. Range [0, 1]. Convert image to uint8 prior to saving to suppress this warning.\n"
     ]
    },
    {
     "name": "stdout",
     "output_type": "stream",
     "text": [
      "C:\\Users\\user\\face_recog\\DGEs\\FaceNet\\step2_align_face_from_yourdataset\\input_dir\\fb\\FB_IMG_1604140509596.jpg\n"
     ]
    },
    {
     "name": "stderr",
     "output_type": "stream",
     "text": [
      "Lossy conversion from float64 to uint8. Range [0, 1]. Convert image to uint8 prior to saving to suppress this warning.\n",
      "Lossy conversion from float64 to uint8. Range [0, 1]. Convert image to uint8 prior to saving to suppress this warning.\n"
     ]
    },
    {
     "name": "stdout",
     "output_type": "stream",
     "text": [
      "C:\\Users\\user\\face_recog\\DGEs\\FaceNet\\step2_align_face_from_yourdataset\\input_dir\\fb\\FB_IMG_1604140554732.jpg\n"
     ]
    },
    {
     "name": "stderr",
     "output_type": "stream",
     "text": [
      "Lossy conversion from float64 to uint8. Range [0, 1]. Convert image to uint8 prior to saving to suppress this warning.\n"
     ]
    },
    {
     "name": "stdout",
     "output_type": "stream",
     "text": [
      "C:\\Users\\user\\face_recog\\DGEs\\FaceNet\\step2_align_face_from_yourdataset\\input_dir\\fb\\FB_IMG_1604140530748.jpg\n"
     ]
    },
    {
     "name": "stderr",
     "output_type": "stream",
     "text": [
      "Lossy conversion from float64 to uint8. Range [0, 1]. Convert image to uint8 prior to saving to suppress this warning.\n",
      "Lossy conversion from float64 to uint8. Range [0, 1]. Convert image to uint8 prior to saving to suppress this warning.\n"
     ]
    },
    {
     "name": "stdout",
     "output_type": "stream",
     "text": [
      "C:\\Users\\user\\face_recog\\DGEs\\FaceNet\\step2_align_face_from_yourdataset\\input_dir\\fb\\FB_IMG_1604140686441.jpg\n"
     ]
    },
    {
     "name": "stderr",
     "output_type": "stream",
     "text": [
      "Lossy conversion from float64 to uint8. Range [0, 1]. Convert image to uint8 prior to saving to suppress this warning.\n",
      "Lossy conversion from float64 to uint8. Range [0, 1]. Convert image to uint8 prior to saving to suppress this warning.\n"
     ]
    },
    {
     "name": "stdout",
     "output_type": "stream",
     "text": [
      "C:\\Users\\user\\face_recog\\DGEs\\FaceNet\\step2_align_face_from_yourdataset\\input_dir\\fb\\FB_IMG_1604140796630.jpg\n"
     ]
    },
    {
     "name": "stderr",
     "output_type": "stream",
     "text": [
      "Lossy conversion from float64 to uint8. Range [0, 1]. Convert image to uint8 prior to saving to suppress this warning.\n"
     ]
    },
    {
     "name": "stdout",
     "output_type": "stream",
     "text": [
      "C:\\Users\\user\\face_recog\\DGEs\\FaceNet\\step2_align_face_from_yourdataset\\input_dir\\fb\\FB_IMG_1604140583669.jpg\n"
     ]
    },
    {
     "name": "stderr",
     "output_type": "stream",
     "text": [
      "Lossy conversion from float64 to uint8. Range [0, 1]. Convert image to uint8 prior to saving to suppress this warning.\n"
     ]
    },
    {
     "name": "stdout",
     "output_type": "stream",
     "text": [
      "C:\\Users\\user\\face_recog\\DGEs\\FaceNet\\step2_align_face_from_yourdataset\\input_dir\\fb\\FB_IMG_1604140556864.jpg\n"
     ]
    },
    {
     "name": "stderr",
     "output_type": "stream",
     "text": [
      "Lossy conversion from float64 to uint8. Range [0, 1]. Convert image to uint8 prior to saving to suppress this warning.\n"
     ]
    },
    {
     "name": "stdout",
     "output_type": "stream",
     "text": [
      "C:\\Users\\user\\face_recog\\DGEs\\FaceNet\\step2_align_face_from_yourdataset\\input_dir\\fb\\FB_IMG_1604140808547.jpg\n"
     ]
    },
    {
     "name": "stderr",
     "output_type": "stream",
     "text": [
      "Lossy conversion from float64 to uint8. Range [0, 1]. Convert image to uint8 prior to saving to suppress this warning.\n"
     ]
    },
    {
     "name": "stdout",
     "output_type": "stream",
     "text": [
      "C:\\Users\\user\\face_recog\\DGEs\\FaceNet\\step2_align_face_from_yourdataset\\input_dir\\fb\\FB_IMG_1564883346674.jpg\n"
     ]
    },
    {
     "name": "stderr",
     "output_type": "stream",
     "text": [
      "Lossy conversion from float64 to uint8. Range [0, 1]. Convert image to uint8 prior to saving to suppress this warning.\n",
      "Lossy conversion from float64 to uint8. Range [0, 1]. Convert image to uint8 prior to saving to suppress this warning.\n",
      "Lossy conversion from float64 to uint8. Range [0, 1]. Convert image to uint8 prior to saving to suppress this warning.\n",
      "Lossy conversion from float64 to uint8. Range [0, 1]. Convert image to uint8 prior to saving to suppress this warning.\n",
      "Lossy conversion from float64 to uint8. Range [0, 1]. Convert image to uint8 prior to saving to suppress this warning.\n"
     ]
    },
    {
     "name": "stdout",
     "output_type": "stream",
     "text": [
      "C:\\Users\\user\\face_recog\\DGEs\\FaceNet\\step2_align_face_from_yourdataset\\input_dir\\fb\\FB_IMG_1604140817196.jpg\n"
     ]
    },
    {
     "name": "stderr",
     "output_type": "stream",
     "text": [
      "Lossy conversion from float64 to uint8. Range [0, 1]. Convert image to uint8 prior to saving to suppress this warning.\n",
      "Lossy conversion from float64 to uint8. Range [0, 1]. Convert image to uint8 prior to saving to suppress this warning.\n"
     ]
    },
    {
     "name": "stdout",
     "output_type": "stream",
     "text": [
      "C:\\Users\\user\\face_recog\\DGEs\\FaceNet\\step2_align_face_from_yourdataset\\input_dir\\fb\\FB_IMG_1604140691260.jpg\n"
     ]
    },
    {
     "name": "stderr",
     "output_type": "stream",
     "text": [
      "Lossy conversion from float64 to uint8. Range [0, 1]. Convert image to uint8 prior to saving to suppress this warning.\n",
      "Lossy conversion from float64 to uint8. Range [0, 1]. Convert image to uint8 prior to saving to suppress this warning.\n"
     ]
    },
    {
     "name": "stdout",
     "output_type": "stream",
     "text": [
      "C:\\Users\\user\\face_recog\\DGEs\\FaceNet\\step2_align_face_from_yourdataset\\input_dir\\fb\\FB_IMG_1604140639598.jpg\n"
     ]
    },
    {
     "name": "stderr",
     "output_type": "stream",
     "text": [
      "Lossy conversion from float64 to uint8. Range [0, 1]. Convert image to uint8 prior to saving to suppress this warning.\n",
      "Lossy conversion from float64 to uint8. Range [0, 1]. Convert image to uint8 prior to saving to suppress this warning.\n",
      "Lossy conversion from float64 to uint8. Range [0, 1]. Convert image to uint8 prior to saving to suppress this warning.\n"
     ]
    },
    {
     "name": "stdout",
     "output_type": "stream",
     "text": [
      "C:\\Users\\user\\face_recog\\DGEs\\FaceNet\\step2_align_face_from_yourdataset\\input_dir\\fb\\FB_IMG_1604140607891.jpg\n"
     ]
    },
    {
     "name": "stderr",
     "output_type": "stream",
     "text": [
      "Lossy conversion from float64 to uint8. Range [0, 1]. Convert image to uint8 prior to saving to suppress this warning.\n"
     ]
    },
    {
     "name": "stdout",
     "output_type": "stream",
     "text": [
      "C:\\Users\\user\\face_recog\\DGEs\\FaceNet\\step2_align_face_from_yourdataset\\input_dir\\fb\\FB_IMG_1604140657751.jpg\n"
     ]
    },
    {
     "name": "stderr",
     "output_type": "stream",
     "text": [
      "Lossy conversion from float64 to uint8. Range [0, 1]. Convert image to uint8 prior to saving to suppress this warning.\n",
      "Lossy conversion from float64 to uint8. Range [0, 1]. Convert image to uint8 prior to saving to suppress this warning.\n",
      "Lossy conversion from float64 to uint8. Range [0, 1]. Convert image to uint8 prior to saving to suppress this warning.\n",
      "Lossy conversion from float64 to uint8. Range [0, 1]. Convert image to uint8 prior to saving to suppress this warning.\n",
      "Lossy conversion from float64 to uint8. Range [0, 1]. Convert image to uint8 prior to saving to suppress this warning.\n"
     ]
    },
    {
     "name": "stdout",
     "output_type": "stream",
     "text": [
      "C:\\Users\\user\\face_recog\\DGEs\\FaceNet\\step2_align_face_from_yourdataset\\input_dir\\fb\\FB_IMG_1604140676549.jpg\n"
     ]
    },
    {
     "name": "stderr",
     "output_type": "stream",
     "text": [
      "Lossy conversion from float64 to uint8. Range [0, 1]. Convert image to uint8 prior to saving to suppress this warning.\n"
     ]
    },
    {
     "name": "stdout",
     "output_type": "stream",
     "text": [
      "C:\\Users\\user\\face_recog\\DGEs\\FaceNet\\step2_align_face_from_yourdataset\\input_dir\\fb\\FB_IMG_1604140695813.jpg\n"
     ]
    },
    {
     "name": "stderr",
     "output_type": "stream",
     "text": [
      "Lossy conversion from float64 to uint8. Range [0, 1]. Convert image to uint8 prior to saving to suppress this warning.\n"
     ]
    },
    {
     "name": "stdout",
     "output_type": "stream",
     "text": [
      "C:\\Users\\user\\face_recog\\DGEs\\FaceNet\\step2_align_face_from_yourdataset\\input_dir\\fb\\FB_IMG_1604140629932.jpg\n"
     ]
    },
    {
     "name": "stderr",
     "output_type": "stream",
     "text": [
      "Lossy conversion from float64 to uint8. Range [0, 1]. Convert image to uint8 prior to saving to suppress this warning.\n",
      "Lossy conversion from float64 to uint8. Range [0, 1]. Convert image to uint8 prior to saving to suppress this warning.\n",
      "Lossy conversion from float64 to uint8. Range [0, 1]. Convert image to uint8 prior to saving to suppress this warning.\n",
      "Lossy conversion from float64 to uint8. Range [0, 1]. Convert image to uint8 prior to saving to suppress this warning.\n",
      "Lossy conversion from float64 to uint8. Range [0, 1]. Convert image to uint8 prior to saving to suppress this warning.\n",
      "Lossy conversion from float64 to uint8. Range [0, 1]. Convert image to uint8 prior to saving to suppress this warning.\n"
     ]
    },
    {
     "name": "stdout",
     "output_type": "stream",
     "text": [
      "C:\\Users\\user\\face_recog\\DGEs\\FaceNet\\step2_align_face_from_yourdataset\\input_dir\\fb\\FB_IMG_1604140594392.jpg\n"
     ]
    },
    {
     "name": "stderr",
     "output_type": "stream",
     "text": [
      "Lossy conversion from float64 to uint8. Range [0, 1]. Convert image to uint8 prior to saving to suppress this warning.\n"
     ]
    },
    {
     "name": "stdout",
     "output_type": "stream",
     "text": [
      "C:\\Users\\user\\face_recog\\DGEs\\FaceNet\\step2_align_face_from_yourdataset\\input_dir\\fb\\FB_IMG_1604140517839.jpg\n"
     ]
    },
    {
     "name": "stderr",
     "output_type": "stream",
     "text": [
      "Lossy conversion from float64 to uint8. Range [0, 1]. Convert image to uint8 prior to saving to suppress this warning.\n",
      "Lossy conversion from float64 to uint8. Range [0, 1]. Convert image to uint8 prior to saving to suppress this warning.\n"
     ]
    },
    {
     "name": "stdout",
     "output_type": "stream",
     "text": [
      "C:\\Users\\user\\face_recog\\DGEs\\FaceNet\\step2_align_face_from_yourdataset\\input_dir\\fb\\FB_IMG_1604140520702.jpg\n"
     ]
    },
    {
     "name": "stderr",
     "output_type": "stream",
     "text": [
      "Lossy conversion from float64 to uint8. Range [0, 1]. Convert image to uint8 prior to saving to suppress this warning.\n",
      "Lossy conversion from float64 to uint8. Range [0, 1]. Convert image to uint8 prior to saving to suppress this warning.\n"
     ]
    },
    {
     "name": "stdout",
     "output_type": "stream",
     "text": [
      "C:\\Users\\user\\face_recog\\DGEs\\FaceNet\\step2_align_face_from_yourdataset\\input_dir\\fb\\FB_IMG_1604140665090.jpg\n"
     ]
    },
    {
     "name": "stderr",
     "output_type": "stream",
     "text": [
      "Lossy conversion from float64 to uint8. Range [0, 1]. Convert image to uint8 prior to saving to suppress this warning.\n",
      "Lossy conversion from float64 to uint8. Range [0, 1]. Convert image to uint8 prior to saving to suppress this warning.\n",
      "Lossy conversion from float64 to uint8. Range [0, 1]. Convert image to uint8 prior to saving to suppress this warning.\n"
     ]
    },
    {
     "name": "stdout",
     "output_type": "stream",
     "text": [
      "C:\\Users\\user\\face_recog\\DGEs\\FaceNet\\step2_align_face_from_yourdataset\\input_dir\\fb\\FB_IMG_1604140767147.jpg\n"
     ]
    },
    {
     "name": "stderr",
     "output_type": "stream",
     "text": [
      "Lossy conversion from float64 to uint8. Range [0, 1]. Convert image to uint8 prior to saving to suppress this warning.\n"
     ]
    },
    {
     "name": "stdout",
     "output_type": "stream",
     "text": [
      "C:\\Users\\user\\face_recog\\DGEs\\FaceNet\\step2_align_face_from_yourdataset\\input_dir\\fb\\FB_IMG_1604140543676.jpg\n"
     ]
    },
    {
     "name": "stderr",
     "output_type": "stream",
     "text": [
      "Lossy conversion from float64 to uint8. Range [0, 1]. Convert image to uint8 prior to saving to suppress this warning.\n",
      "Lossy conversion from float64 to uint8. Range [0, 1]. Convert image to uint8 prior to saving to suppress this warning.\n",
      "Lossy conversion from float64 to uint8. Range [0, 1]. Convert image to uint8 prior to saving to suppress this warning.\n"
     ]
    },
    {
     "name": "stdout",
     "output_type": "stream",
     "text": [
      "C:\\Users\\user\\face_recog\\DGEs\\FaceNet\\step2_align_face_from_yourdataset\\input_dir\\fb\\FB_IMG_1604140856547.jpg\n"
     ]
    },
    {
     "name": "stderr",
     "output_type": "stream",
     "text": [
      "Lossy conversion from float64 to uint8. Range [0, 1]. Convert image to uint8 prior to saving to suppress this warning.\n",
      "Lossy conversion from float64 to uint8. Range [0, 1]. Convert image to uint8 prior to saving to suppress this warning.\n"
     ]
    },
    {
     "name": "stdout",
     "output_type": "stream",
     "text": [
      "C:\\Users\\user\\face_recog\\DGEs\\FaceNet\\step2_align_face_from_yourdataset\\input_dir\\fb\\FB_IMG_1604140512560.jpg\n"
     ]
    },
    {
     "name": "stderr",
     "output_type": "stream",
     "text": [
      "Lossy conversion from float64 to uint8. Range [0, 1]. Convert image to uint8 prior to saving to suppress this warning.\n",
      "Lossy conversion from float64 to uint8. Range [0, 1]. Convert image to uint8 prior to saving to suppress this warning.\n"
     ]
    },
    {
     "name": "stdout",
     "output_type": "stream",
     "text": [
      "C:\\Users\\user\\face_recog\\DGEs\\FaceNet\\step2_align_face_from_yourdataset\\input_dir\\fb\\FB_IMG_1604140701160.jpg\n"
     ]
    },
    {
     "name": "stderr",
     "output_type": "stream",
     "text": [
      "Lossy conversion from float64 to uint8. Range [0, 1]. Convert image to uint8 prior to saving to suppress this warning.\n"
     ]
    },
    {
     "name": "stdout",
     "output_type": "stream",
     "text": [
      "C:\\Users\\user\\face_recog\\DGEs\\FaceNet\\step2_align_face_from_yourdataset\\input_dir\\fb\\FB_IMG_1604140636642.jpg\n"
     ]
    },
    {
     "name": "stderr",
     "output_type": "stream",
     "text": [
      "Lossy conversion from float64 to uint8. Range [0, 1]. Convert image to uint8 prior to saving to suppress this warning.\n",
      "Lossy conversion from float64 to uint8. Range [0, 1]. Convert image to uint8 prior to saving to suppress this warning.\n"
     ]
    },
    {
     "name": "stdout",
     "output_type": "stream",
     "text": [
      "C:\\Users\\user\\face_recog\\DGEs\\FaceNet\\step2_align_face_from_yourdataset\\input_dir\\fb\\FB_IMG_1604140633497.jpg\n"
     ]
    },
    {
     "name": "stderr",
     "output_type": "stream",
     "text": [
      "Lossy conversion from float64 to uint8. Range [0, 1]. Convert image to uint8 prior to saving to suppress this warning.\n",
      "Lossy conversion from float64 to uint8. Range [0, 1]. Convert image to uint8 prior to saving to suppress this warning.\n",
      "Lossy conversion from float64 to uint8. Range [0, 1]. Convert image to uint8 prior to saving to suppress this warning.\n",
      "Lossy conversion from float64 to uint8. Range [0, 1]. Convert image to uint8 prior to saving to suppress this warning.\n",
      "Lossy conversion from float64 to uint8. Range [0, 1]. Convert image to uint8 prior to saving to suppress this warning.\n"
     ]
    },
    {
     "name": "stdout",
     "output_type": "stream",
     "text": [
      "C:\\Users\\user\\face_recog\\DGEs\\FaceNet\\step2_align_face_from_yourdataset\\input_dir\\fb\\FB_IMG_1604140866902.jpg\n"
     ]
    },
    {
     "name": "stderr",
     "output_type": "stream",
     "text": [
      "Lossy conversion from float64 to uint8. Range [0, 1]. Convert image to uint8 prior to saving to suppress this warning.\n"
     ]
    },
    {
     "name": "stdout",
     "output_type": "stream",
     "text": [
      "C:\\Users\\user\\face_recog\\DGEs\\FaceNet\\step2_align_face_from_yourdataset\\input_dir\\fb\\FB_IMG_1604140697913.jpg\n"
     ]
    },
    {
     "name": "stderr",
     "output_type": "stream",
     "text": [
      "Lossy conversion from float64 to uint8. Range [0, 1]. Convert image to uint8 prior to saving to suppress this warning.\n"
     ]
    },
    {
     "name": "stdout",
     "output_type": "stream",
     "text": [
      "C:\\Users\\user\\face_recog\\DGEs\\FaceNet\\step2_align_face_from_yourdataset\\input_dir\\fb\\FB_IMG_1604140538731.jpg\n"
     ]
    },
    {
     "name": "stderr",
     "output_type": "stream",
     "text": [
      "Lossy conversion from float64 to uint8. Range [0, 1]. Convert image to uint8 prior to saving to suppress this warning.\n",
      "Lossy conversion from float64 to uint8. Range [0, 1]. Convert image to uint8 prior to saving to suppress this warning.\n"
     ]
    },
    {
     "name": "stdout",
     "output_type": "stream",
     "text": [
      "C:\\Users\\user\\face_recog\\DGEs\\FaceNet\\step2_align_face_from_yourdataset\\input_dir\\fb\\FB_IMG_1604140545825.jpg\n"
     ]
    },
    {
     "name": "stderr",
     "output_type": "stream",
     "text": [
      "Lossy conversion from float64 to uint8. Range [0, 1]. Convert image to uint8 prior to saving to suppress this warning.\n",
      "Lossy conversion from float64 to uint8. Range [0, 1]. Convert image to uint8 prior to saving to suppress this warning.\n"
     ]
    },
    {
     "name": "stdout",
     "output_type": "stream",
     "text": [
      "C:\\Users\\user\\face_recog\\DGEs\\FaceNet\\step2_align_face_from_yourdataset\\input_dir\\fb\\FB_IMG_1604140652123.jpg\n"
     ]
    },
    {
     "name": "stderr",
     "output_type": "stream",
     "text": [
      "Lossy conversion from float64 to uint8. Range [0, 1]. Convert image to uint8 prior to saving to suppress this warning.\n",
      "Lossy conversion from float64 to uint8. Range [0, 1]. Convert image to uint8 prior to saving to suppress this warning.\n"
     ]
    },
    {
     "name": "stdout",
     "output_type": "stream",
     "text": [
      "C:\\Users\\user\\face_recog\\DGEs\\FaceNet\\step2_align_face_from_yourdataset\\input_dir\\fb\\FB_IMG_1604140831943.jpg\n"
     ]
    },
    {
     "name": "stderr",
     "output_type": "stream",
     "text": [
      "Lossy conversion from float64 to uint8. Range [0, 1]. Convert image to uint8 prior to saving to suppress this warning.\n",
      "Lossy conversion from float64 to uint8. Range [0, 1]. Convert image to uint8 prior to saving to suppress this warning.\n"
     ]
    },
    {
     "name": "stdout",
     "output_type": "stream",
     "text": [
      "C:\\Users\\user\\face_recog\\DGEs\\FaceNet\\step2_align_face_from_yourdataset\\input_dir\\fb\\FB_IMG_1604140561293.jpg\n"
     ]
    },
    {
     "name": "stderr",
     "output_type": "stream",
     "text": [
      "Lossy conversion from float64 to uint8. Range [0, 1]. Convert image to uint8 prior to saving to suppress this warning.\n",
      "Lossy conversion from float64 to uint8. Range [0, 1]. Convert image to uint8 prior to saving to suppress this warning.\n",
      "Lossy conversion from float64 to uint8. Range [0, 1]. Convert image to uint8 prior to saving to suppress this warning.\n"
     ]
    },
    {
     "name": "stdout",
     "output_type": "stream",
     "text": [
      "C:\\Users\\user\\face_recog\\DGEs\\FaceNet\\step2_align_face_from_yourdataset\\input_dir\\fb\\FB_IMG_1563497605033.jpg\n"
     ]
    },
    {
     "name": "stderr",
     "output_type": "stream",
     "text": [
      "Lossy conversion from float64 to uint8. Range [0, 1]. Convert image to uint8 prior to saving to suppress this warning.\n",
      "Lossy conversion from float64 to uint8. Range [0, 1]. Convert image to uint8 prior to saving to suppress this warning.\n",
      "Lossy conversion from float64 to uint8. Range [0, 1]. Convert image to uint8 prior to saving to suppress this warning.\n"
     ]
    },
    {
     "name": "stdout",
     "output_type": "stream",
     "text": [
      "C:\\Users\\user\\face_recog\\DGEs\\FaceNet\\step2_align_face_from_yourdataset\\input_dir\\fb\\FB_IMG_1604140721431.jpg\n"
     ]
    },
    {
     "name": "stderr",
     "output_type": "stream",
     "text": [
      "Lossy conversion from float64 to uint8. Range [0, 1]. Convert image to uint8 prior to saving to suppress this warning.\n"
     ]
    },
    {
     "name": "stdout",
     "output_type": "stream",
     "text": [
      "C:\\Users\\user\\face_recog\\DGEs\\FaceNet\\step2_align_face_from_yourdataset\\input_dir\\fb\\FB_IMG_1604140525698.jpg\n"
     ]
    },
    {
     "name": "stderr",
     "output_type": "stream",
     "text": [
      "Lossy conversion from float64 to uint8. Range [0, 1]. Convert image to uint8 prior to saving to suppress this warning.\n",
      "Lossy conversion from float64 to uint8. Range [0, 1]. Convert image to uint8 prior to saving to suppress this warning.\n"
     ]
    },
    {
     "name": "stdout",
     "output_type": "stream",
     "text": [
      "C:\\Users\\user\\face_recog\\DGEs\\FaceNet\\step2_align_face_from_yourdataset\\input_dir\\fb\\FB_IMG_1604140760344.jpg\n"
     ]
    },
    {
     "name": "stderr",
     "output_type": "stream",
     "text": [
      "Lossy conversion from float64 to uint8. Range [0, 1]. Convert image to uint8 prior to saving to suppress this warning.\n",
      "Lossy conversion from float64 to uint8. Range [0, 1]. Convert image to uint8 prior to saving to suppress this warning.\n"
     ]
    },
    {
     "name": "stdout",
     "output_type": "stream",
     "text": [
      "C:\\Users\\user\\face_recog\\DGEs\\FaceNet\\step2_align_face_from_yourdataset\\input_dir\\fb\\FB_IMG_1573737562052.jpg\n"
     ]
    },
    {
     "name": "stderr",
     "output_type": "stream",
     "text": [
      "Lossy conversion from float64 to uint8. Range [0, 1]. Convert image to uint8 prior to saving to suppress this warning.\n",
      "Lossy conversion from float64 to uint8. Range [0, 1]. Convert image to uint8 prior to saving to suppress this warning.\n"
     ]
    },
    {
     "name": "stdout",
     "output_type": "stream",
     "text": [
      "C:\\Users\\user\\face_recog\\DGEs\\FaceNet\\step2_align_face_from_yourdataset\\input_dir\\fb\\FB_IMG_1604140602450.jpg\n"
     ]
    },
    {
     "name": "stderr",
     "output_type": "stream",
     "text": [
      "Lossy conversion from float64 to uint8. Range [0, 1]. Convert image to uint8 prior to saving to suppress this warning.\n"
     ]
    },
    {
     "name": "stdout",
     "output_type": "stream",
     "text": [
      "C:\\Users\\user\\face_recog\\DGEs\\FaceNet\\step2_align_face_from_yourdataset\\input_dir\\fb\\FB_IMG_1604140506967.jpg\n"
     ]
    },
    {
     "name": "stderr",
     "output_type": "stream",
     "text": [
      "Lossy conversion from float64 to uint8. Range [0, 1]. Convert image to uint8 prior to saving to suppress this warning.\n",
      "Lossy conversion from float64 to uint8. Range [0, 1]. Convert image to uint8 prior to saving to suppress this warning.\n"
     ]
    },
    {
     "name": "stdout",
     "output_type": "stream",
     "text": [
      "C:\\Users\\user\\face_recog\\DGEs\\FaceNet\\step2_align_face_from_yourdataset\\input_dir\\fb\\FB_IMG_1604140577556.jpg\n"
     ]
    },
    {
     "name": "stderr",
     "output_type": "stream",
     "text": [
      "Lossy conversion from float64 to uint8. Range [0, 1]. Convert image to uint8 prior to saving to suppress this warning.\n"
     ]
    },
    {
     "name": "stdout",
     "output_type": "stream",
     "text": [
      "C:\\Users\\user\\face_recog\\DGEs\\FaceNet\\step2_align_face_from_yourdataset\\input_dir\\fb\\FB_IMG_1604140674455.jpg\n"
     ]
    },
    {
     "name": "stderr",
     "output_type": "stream",
     "text": [
      "Lossy conversion from float64 to uint8. Range [0, 1]. Convert image to uint8 prior to saving to suppress this warning.\n"
     ]
    },
    {
     "name": "stdout",
     "output_type": "stream",
     "text": [
      "C:\\Users\\user\\face_recog\\DGEs\\FaceNet\\step2_align_face_from_yourdataset\\input_dir\\fb\\FB_IMG_1604140643651.jpg\n"
     ]
    },
    {
     "name": "stderr",
     "output_type": "stream",
     "text": [
      "Lossy conversion from float64 to uint8. Range [0, 1]. Convert image to uint8 prior to saving to suppress this warning.\n",
      "Lossy conversion from float64 to uint8. Range [0, 1]. Convert image to uint8 prior to saving to suppress this warning.\n",
      "Lossy conversion from float64 to uint8. Range [0, 1]. Convert image to uint8 prior to saving to suppress this warning.\n",
      "Lossy conversion from float64 to uint8. Range [0, 1]. Convert image to uint8 prior to saving to suppress this warning.\n",
      "Lossy conversion from float64 to uint8. Range [0, 1]. Convert image to uint8 prior to saving to suppress this warning.\n",
      "Lossy conversion from float64 to uint8. Range [0, 1]. Convert image to uint8 prior to saving to suppress this warning.\n",
      "Lossy conversion from float64 to uint8. Range [0, 1]. Convert image to uint8 prior to saving to suppress this warning.\n",
      "Lossy conversion from float64 to uint8. Range [0, 1]. Convert image to uint8 prior to saving to suppress this warning.\n",
      "Lossy conversion from float64 to uint8. Range [0, 1]. Convert image to uint8 prior to saving to suppress this warning.\n",
      "Lossy conversion from float64 to uint8. Range [0, 1]. Convert image to uint8 prior to saving to suppress this warning.\n"
     ]
    },
    {
     "name": "stdout",
     "output_type": "stream",
     "text": [
      "C:\\Users\\user\\face_recog\\DGEs\\FaceNet\\step2_align_face_from_yourdataset\\input_dir\\fb\\FB_IMG_1604140572209.jpg\n"
     ]
    },
    {
     "name": "stderr",
     "output_type": "stream",
     "text": [
      "Lossy conversion from float64 to uint8. Range [0, 1]. Convert image to uint8 prior to saving to suppress this warning.\n",
      "Lossy conversion from float64 to uint8. Range [0, 1]. Convert image to uint8 prior to saving to suppress this warning.\n"
     ]
    },
    {
     "name": "stdout",
     "output_type": "stream",
     "text": [
      "C:\\Users\\user\\face_recog\\DGEs\\FaceNet\\step2_align_face_from_yourdataset\\input_dir\\fb\\FB_IMG_1604140503742.jpg\n"
     ]
    },
    {
     "name": "stderr",
     "output_type": "stream",
     "text": [
      "Lossy conversion from float64 to uint8. Range [0, 1]. Convert image to uint8 prior to saving to suppress this warning.\n",
      "Lossy conversion from float64 to uint8. Range [0, 1]. Convert image to uint8 prior to saving to suppress this warning.\n"
     ]
    },
    {
     "name": "stdout",
     "output_type": "stream",
     "text": [
      "C:\\Users\\user\\face_recog\\DGEs\\FaceNet\\step2_align_face_from_yourdataset\\input_dir\\fb\\FB_IMG_1604140528049.jpg\n"
     ]
    },
    {
     "name": "stderr",
     "output_type": "stream",
     "text": [
      "Lossy conversion from float64 to uint8. Range [0, 1]. Convert image to uint8 prior to saving to suppress this warning.\n",
      "Lossy conversion from float64 to uint8. Range [0, 1]. Convert image to uint8 prior to saving to suppress this warning.\n"
     ]
    },
    {
     "name": "stdout",
     "output_type": "stream",
     "text": [
      "C:\\Users\\user\\face_recog\\DGEs\\FaceNet\\step2_align_face_from_yourdataset\\input_dir\\fb\\FB_IMG_1604140782114.jpg\n"
     ]
    },
    {
     "name": "stderr",
     "output_type": "stream",
     "text": [
      "Lossy conversion from float64 to uint8. Range [0, 1]. Convert image to uint8 prior to saving to suppress this warning.\n"
     ]
    },
    {
     "name": "stdout",
     "output_type": "stream",
     "text": [
      "C:\\Users\\user\\face_recog\\DGEs\\FaceNet\\step2_align_face_from_yourdataset\\input_dir\\fb\\FB_IMG_1604140586254.jpg\n"
     ]
    },
    {
     "name": "stderr",
     "output_type": "stream",
     "text": [
      "Lossy conversion from float64 to uint8. Range [0, 1]. Convert image to uint8 prior to saving to suppress this warning.\n",
      "Lossy conversion from float64 to uint8. Range [0, 1]. Convert image to uint8 prior to saving to suppress this warning.\n"
     ]
    },
    {
     "name": "stdout",
     "output_type": "stream",
     "text": [
      "C:\\Users\\user\\face_recog\\DGEs\\FaceNet\\step2_align_face_from_yourdataset\\input_dir\\fb\\FB_IMG_1604140765219.jpg\n"
     ]
    },
    {
     "name": "stderr",
     "output_type": "stream",
     "text": [
      "Lossy conversion from float64 to uint8. Range [0, 1]. Convert image to uint8 prior to saving to suppress this warning.\n"
     ]
    },
    {
     "name": "stdout",
     "output_type": "stream",
     "text": [
      "C:\\Users\\user\\face_recog\\DGEs\\FaceNet\\step2_align_face_from_yourdataset\\input_dir\\fb\\FB_IMG_1604140600018.jpg\n"
     ]
    },
    {
     "name": "stderr",
     "output_type": "stream",
     "text": [
      "Lossy conversion from float64 to uint8. Range [0, 1]. Convert image to uint8 prior to saving to suppress this warning.\n"
     ]
    },
    {
     "name": "stdout",
     "output_type": "stream",
     "text": [
      "C:\\Users\\user\\face_recog\\DGEs\\FaceNet\\step2_align_face_from_yourdataset\\input_dir\\fb\\FB_IMG_1604140838002.jpg\n"
     ]
    },
    {
     "name": "stderr",
     "output_type": "stream",
     "text": [
      "Lossy conversion from float64 to uint8. Range [0, 1]. Convert image to uint8 prior to saving to suppress this warning.\n",
      "Lossy conversion from float64 to uint8. Range [0, 1]. Convert image to uint8 prior to saving to suppress this warning.\n"
     ]
    },
    {
     "name": "stdout",
     "output_type": "stream",
     "text": [
      "C:\\Users\\user\\face_recog\\DGEs\\FaceNet\\step2_align_face_from_yourdataset\\input_dir\\fb\\FB_IMG_1604140762933.jpg\n"
     ]
    },
    {
     "name": "stderr",
     "output_type": "stream",
     "text": [
      "Lossy conversion from float64 to uint8. Range [0, 1]. Convert image to uint8 prior to saving to suppress this warning.\n"
     ]
    },
    {
     "name": "stdout",
     "output_type": "stream",
     "text": [
      "C:\\Users\\user\\face_recog\\DGEs\\FaceNet\\step2_align_face_from_yourdataset\\input_dir\\fb\\FB_IMG_1604140605195.jpg\n"
     ]
    },
    {
     "name": "stderr",
     "output_type": "stream",
     "text": [
      "Lossy conversion from float64 to uint8. Range [0, 1]. Convert image to uint8 prior to saving to suppress this warning.\n"
     ]
    },
    {
     "name": "stdout",
     "output_type": "stream",
     "text": [
      "C:\\Users\\user\\face_recog\\DGEs\\FaceNet\\step2_align_face_from_yourdataset\\input_dir\\fb\\FB_IMG_1604140684595.jpg\n"
     ]
    },
    {
     "name": "stderr",
     "output_type": "stream",
     "text": [
      "Lossy conversion from float64 to uint8. Range [0, 1]. Convert image to uint8 prior to saving to suppress this warning.\n",
      "Lossy conversion from float64 to uint8. Range [0, 1]. Convert image to uint8 prior to saving to suppress this warning.\n"
     ]
    },
    {
     "name": "stdout",
     "output_type": "stream",
     "text": [
      "C:\\Users\\user\\face_recog\\DGEs\\FaceNet\\step2_align_face_from_yourdataset\\input_dir\\fb\\FB_IMG_1604140569623.jpg\n"
     ]
    },
    {
     "name": "stderr",
     "output_type": "stream",
     "text": [
      "Lossy conversion from float64 to uint8. Range [0, 1]. Convert image to uint8 prior to saving to suppress this warning.\n",
      "Lossy conversion from float64 to uint8. Range [0, 1]. Convert image to uint8 prior to saving to suppress this warning.\n",
      "Lossy conversion from float64 to uint8. Range [0, 1]. Convert image to uint8 prior to saving to suppress this warning.\n"
     ]
    },
    {
     "name": "stdout",
     "output_type": "stream",
     "text": [
      "C:\\Users\\user\\face_recog\\DGEs\\FaceNet\\step2_align_face_from_yourdataset\\input_dir\\fb\\FB_IMG_1604140563580.jpg\n"
     ]
    },
    {
     "name": "stderr",
     "output_type": "stream",
     "text": [
      "Lossy conversion from float64 to uint8. Range [0, 1]. Convert image to uint8 prior to saving to suppress this warning.\n",
      "Lossy conversion from float64 to uint8. Range [0, 1]. Convert image to uint8 prior to saving to suppress this warning.\n"
     ]
    },
    {
     "name": "stdout",
     "output_type": "stream",
     "text": [
      "C:\\Users\\user\\face_recog\\DGEs\\FaceNet\\step2_align_face_from_yourdataset\\input_dir\\fb\\FB_IMG_1604140688791.jpg\n"
     ]
    },
    {
     "name": "stderr",
     "output_type": "stream",
     "text": [
      "Lossy conversion from float64 to uint8. Range [0, 1]. Convert image to uint8 prior to saving to suppress this warning.\n",
      "Lossy conversion from float64 to uint8. Range [0, 1]. Convert image to uint8 prior to saving to suppress this warning.\n",
      "Lossy conversion from float64 to uint8. Range [0, 1]. Convert image to uint8 prior to saving to suppress this warning.\n"
     ]
    },
    {
     "name": "stdout",
     "output_type": "stream",
     "text": [
      "C:\\Users\\user\\face_recog\\DGEs\\FaceNet\\step2_align_face_from_yourdataset\\input_dir\\fb\\FB_IMG_1604140541064.jpg\n"
     ]
    },
    {
     "name": "stderr",
     "output_type": "stream",
     "text": [
      "Lossy conversion from float64 to uint8. Range [0, 1]. Convert image to uint8 prior to saving to suppress this warning.\n",
      "Lossy conversion from float64 to uint8. Range [0, 1]. Convert image to uint8 prior to saving to suppress this warning.\n"
     ]
    },
    {
     "name": "stdout",
     "output_type": "stream",
     "text": [
      "C:\\Users\\user\\face_recog\\DGEs\\FaceNet\\step2_align_face_from_yourdataset\\input_dir\\fb\\FB_IMG_1604140589007.jpg\n"
     ]
    },
    {
     "name": "stderr",
     "output_type": "stream",
     "text": [
      "Lossy conversion from float64 to uint8. Range [0, 1]. Convert image to uint8 prior to saving to suppress this warning.\n"
     ]
    },
    {
     "name": "stdout",
     "output_type": "stream",
     "text": [
      "C:\\Users\\user\\face_recog\\DGEs\\FaceNet\\step2_align_face_from_yourdataset\\input_dir\\fb\\FB_IMG_1604140649896.jpg\n"
     ]
    },
    {
     "name": "stderr",
     "output_type": "stream",
     "text": [
      "Lossy conversion from float64 to uint8. Range [0, 1]. Convert image to uint8 prior to saving to suppress this warning.\n",
      "Lossy conversion from float64 to uint8. Range [0, 1]. Convert image to uint8 prior to saving to suppress this warning.\n"
     ]
    },
    {
     "name": "stdout",
     "output_type": "stream",
     "text": [
      "C:\\Users\\user\\face_recog\\DGEs\\FaceNet\\step2_align_face_from_yourdataset\\input_dir\\fb\\FB_IMG_1604140778731.jpg\n"
     ]
    },
    {
     "name": "stderr",
     "output_type": "stream",
     "text": [
      "Lossy conversion from float64 to uint8. Range [0, 1]. Convert image to uint8 prior to saving to suppress this warning.\n"
     ]
    },
    {
     "name": "stdout",
     "output_type": "stream",
     "text": [
      "C:\\Users\\user\\face_recog\\DGEs\\FaceNet\\step2_align_face_from_yourdataset\\input_dir\\fb\\FB_IMG_1604140622003.jpg\n"
     ]
    },
    {
     "name": "stderr",
     "output_type": "stream",
     "text": [
      "Lossy conversion from float64 to uint8. Range [0, 1]. Convert image to uint8 prior to saving to suppress this warning.\n",
      "Lossy conversion from float64 to uint8. Range [0, 1]. Convert image to uint8 prior to saving to suppress this warning.\n",
      "Lossy conversion from float64 to uint8. Range [0, 1]. Convert image to uint8 prior to saving to suppress this warning.\n",
      "Lossy conversion from float64 to uint8. Range [0, 1]. Convert image to uint8 prior to saving to suppress this warning.\n",
      "Lossy conversion from float64 to uint8. Range [0, 1]. Convert image to uint8 prior to saving to suppress this warning.\n",
      "Lossy conversion from float64 to uint8. Range [0, 1]. Convert image to uint8 prior to saving to suppress this warning.\n",
      "Lossy conversion from float64 to uint8. Range [0, 1]. Convert image to uint8 prior to saving to suppress this warning.\n",
      "Lossy conversion from float64 to uint8. Range [0, 1]. Convert image to uint8 prior to saving to suppress this warning.\n",
      "Lossy conversion from float64 to uint8. Range [0, 1]. Convert image to uint8 prior to saving to suppress this warning.\n",
      "Lossy conversion from float64 to uint8. Range [0, 1]. Convert image to uint8 prior to saving to suppress this warning.\n"
     ]
    },
    {
     "name": "stdout",
     "output_type": "stream",
     "text": [
      "C:\\Users\\user\\face_recog\\DGEs\\FaceNet\\step2_align_face_from_yourdataset\\input_dir\\fb\\FB_IMG_1604140624701.jpg\n"
     ]
    },
    {
     "name": "stderr",
     "output_type": "stream",
     "text": [
      "Lossy conversion from float64 to uint8. Range [0, 1]. Convert image to uint8 prior to saving to suppress this warning.\n",
      "Lossy conversion from float64 to uint8. Range [0, 1]. Convert image to uint8 prior to saving to suppress this warning.\n",
      "Lossy conversion from float64 to uint8. Range [0, 1]. Convert image to uint8 prior to saving to suppress this warning.\n"
     ]
    },
    {
     "name": "stdout",
     "output_type": "stream",
     "text": [
      "C:\\Users\\user\\face_recog\\DGEs\\FaceNet\\step2_align_face_from_yourdataset\\input_dir\\fb\\FB_IMG_1604140591410.jpg\n"
     ]
    },
    {
     "name": "stderr",
     "output_type": "stream",
     "text": [
      "Lossy conversion from float64 to uint8. Range [0, 1]. Convert image to uint8 prior to saving to suppress this warning.\n"
     ]
    },
    {
     "name": "stdout",
     "output_type": "stream",
     "text": [
      "C:\\Users\\user\\face_recog\\DGEs\\FaceNet\\step2_align_face_from_yourdataset\\input_dir\\fb\\FB_IMG_1604140515277.jpg\n"
     ]
    },
    {
     "name": "stderr",
     "output_type": "stream",
     "text": [
      "Lossy conversion from float64 to uint8. Range [0, 1]. Convert image to uint8 prior to saving to suppress this warning.\n",
      "Lossy conversion from float64 to uint8. Range [0, 1]. Convert image to uint8 prior to saving to suppress this warning.\n"
     ]
    },
    {
     "name": "stdout",
     "output_type": "stream",
     "text": [
      "C:\\Users\\user\\face_recog\\DGEs\\FaceNet\\step2_align_face_from_yourdataset\\input_dir\\fb\\FB_IMG_1604140813562.jpg\n"
     ]
    },
    {
     "name": "stderr",
     "output_type": "stream",
     "text": [
      "Lossy conversion from float64 to uint8. Range [0, 1]. Convert image to uint8 prior to saving to suppress this warning.\n",
      "Lossy conversion from float64 to uint8. Range [0, 1]. Convert image to uint8 prior to saving to suppress this warning.\n"
     ]
    },
    {
     "name": "stdout",
     "output_type": "stream",
     "text": [
      "C:\\Users\\user\\face_recog\\DGEs\\FaceNet\\step2_align_face_from_yourdataset\\input_dir\\fb\\FB_IMG_1604140693752.jpg\n"
     ]
    },
    {
     "name": "stderr",
     "output_type": "stream",
     "text": [
      "Lossy conversion from float64 to uint8. Range [0, 1]. Convert image to uint8 prior to saving to suppress this warning.\n"
     ]
    },
    {
     "name": "stdout",
     "output_type": "stream",
     "text": [
      "C:\\Users\\user\\face_recog\\DGEs\\FaceNet\\step2_align_face_from_yourdataset\\input_dir\\fb\\FB_IMG_1604140535625.jpg\n"
     ]
    },
    {
     "name": "stderr",
     "output_type": "stream",
     "text": [
      "Lossy conversion from float64 to uint8. Range [0, 1]. Convert image to uint8 prior to saving to suppress this warning.\n",
      "Lossy conversion from float64 to uint8. Range [0, 1]. Convert image to uint8 prior to saving to suppress this warning.\n"
     ]
    },
    {
     "name": "stdout",
     "output_type": "stream",
     "text": [
      "Total number of images: 84\n",
      "Number of successfully aligned images: 177\n"
     ]
    }
   ],
   "source": [
    "import argparse\n",
    "\n",
    "parser = argparse.ArgumentParser()\n",
    "parser.add_argument('input_dir', type=str, help='Directory with unaligned images.')\n",
    "parser.add_argument('output_dir', type=str, help='Directory with aligned face thumbnails.')\n",
    "parser.add_argument('--image_size', type=int, help='Image size (height, width) in pixels.', default=160) # facenet ResNet need 160x160 input\n",
    "parser.add_argument('--margin', type=int, help='Margin for the crop around the bounding box (height, width) in pixels.', default=32)\n",
    "parser.add_argument('--random_order', help='Shuffles the order of images to enable alignment using multiple processes.', action='store_true')\n",
    "parser.add_argument('--gpu_memory_fraction', type=float, help='Upper bound on the amount of GPU memory that will be used by the process.', default=1.0)\n",
    "parser.add_argument('--detect_multiple_faces', type=bool, help='Detect and align multiple faces per image.', default=False)\n",
    "\n",
    "args = parser.parse_args(args=[\"input_dir\", \"output_dir\", \"--image_size\", \"160\", \"--margin\", \"32\", \"--random_order\",\n",
    "                               \"--gpu_memory_fraction\", \"0\", \"--detect_multiple_faces\", \"False\"])\n",
    "main(args)"
   ]
  },
  {
   "cell_type": "markdown",
   "metadata": {},
   "source": [
    "### You will see result as show below in the output_dir\n",
    "<br><p style=\"text-align:left;\"><img src=\"images/output.png\"  style=\"width:561px;height:196px;\" align=\"left\">"
   ]
  }
 ],
 "metadata": {
  "kernelspec": {
   "display_name": "Python 3",
   "language": "python",
   "name": "python3"
  },
  "language_info": {
   "codemirror_mode": {
    "name": "ipython",
    "version": 3
   },
   "file_extension": ".py",
   "mimetype": "text/x-python",
   "name": "python",
   "nbconvert_exporter": "python",
   "pygments_lexer": "ipython3",
   "version": "3.7.7"
  }
 },
 "nbformat": 4,
 "nbformat_minor": 4
}
